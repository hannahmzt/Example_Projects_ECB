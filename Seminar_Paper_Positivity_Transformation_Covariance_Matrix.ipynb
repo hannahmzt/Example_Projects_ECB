{
 "cells": [
  {
   "cell_type": "code",
   "execution_count": 2,
   "metadata": {
    "colab": {
     "base_uri": "https://localhost:8080/"
    },
    "id": "OXS2f_KdD98v",
    "outputId": "ba192b31-dd6f-4718-9a01-c9eef782a312"
   },
   "outputs": [
    {
     "name": "stdout",
     "output_type": "stream",
     "text": [
      "Looking in indexes: https://pypi.org/simple, https://us-python.pkg.dev/colab-wheels/public/simple/\n",
      "Collecting yfinance\n",
      "  Downloading yfinance-0.2.12-py2.py3-none-any.whl (59 kB)\n",
      "\u001b[2K     \u001b[90m━━━━━━━━━━━━━━━━━━━━━━━━━━━━━━━━━━━━━━━━\u001b[0m \u001b[32m59.2/59.2 KB\u001b[0m \u001b[31m2.5 MB/s\u001b[0m eta \u001b[36m0:00:00\u001b[0m\n",
      "\u001b[?25hRequirement already satisfied: numpy>=1.16.5 in /usr/local/lib/python3.8/dist-packages (from yfinance) (1.21.6)\n",
      "Collecting cryptography>=3.3.2\n",
      "  Downloading cryptography-39.0.1-cp36-abi3-manylinux_2_28_x86_64.whl (4.2 MB)\n",
      "\u001b[2K     \u001b[90m━━━━━━━━━━━━━━━━━━━━━━━━━━━━━━━━━━━━━━━━\u001b[0m \u001b[32m4.2/4.2 MB\u001b[0m \u001b[31m40.3 MB/s\u001b[0m eta \u001b[36m0:00:00\u001b[0m\n",
      "\u001b[?25hCollecting beautifulsoup4>=4.11.1\n",
      "  Downloading beautifulsoup4-4.11.2-py3-none-any.whl (129 kB)\n",
      "\u001b[2K     \u001b[90m━━━━━━━━━━━━━━━━━━━━━━━━━━━━━━━━━━━━━━\u001b[0m \u001b[32m129.4/129.4 KB\u001b[0m \u001b[31m15.5 MB/s\u001b[0m eta \u001b[36m0:00:00\u001b[0m\n",
      "\u001b[?25hRequirement already satisfied: pytz>=2022.5 in /usr/local/lib/python3.8/dist-packages (from yfinance) (2022.7.1)\n",
      "Requirement already satisfied: appdirs>=1.4.4 in /usr/local/lib/python3.8/dist-packages (from yfinance) (1.4.4)\n",
      "Collecting html5lib>=1.1\n",
      "  Downloading html5lib-1.1-py2.py3-none-any.whl (112 kB)\n",
      "\u001b[2K     \u001b[90m━━━━━━━━━━━━━━━━━━━━━━━━━━━━━━━━━━━━━━\u001b[0m \u001b[32m112.2/112.2 KB\u001b[0m \u001b[31m12.4 MB/s\u001b[0m eta \u001b[36m0:00:00\u001b[0m\n",
      "\u001b[?25hCollecting requests>=2.26\n",
      "  Downloading requests-2.28.2-py3-none-any.whl (62 kB)\n",
      "\u001b[2K     \u001b[90m━━━━━━━━━━━━━━━━━━━━━━━━━━━━━━━━━━━━━━━━\u001b[0m \u001b[32m62.8/62.8 KB\u001b[0m \u001b[31m7.6 MB/s\u001b[0m eta \u001b[36m0:00:00\u001b[0m\n",
      "\u001b[?25hRequirement already satisfied: multitasking>=0.0.7 in /usr/local/lib/python3.8/dist-packages (from yfinance) (0.0.11)\n",
      "Requirement already satisfied: pandas>=1.3.0 in /usr/local/lib/python3.8/dist-packages (from yfinance) (1.3.5)\n",
      "Collecting frozendict>=2.3.4\n",
      "  Downloading frozendict-2.3.4-cp38-cp38-manylinux_2_17_x86_64.manylinux2014_x86_64.whl (110 kB)\n",
      "\u001b[2K     \u001b[90m━━━━━━━━━━━━━━━━━━━━━━━━━━━━━━━━━━━━━━\u001b[0m \u001b[32m111.0/111.0 KB\u001b[0m \u001b[31m14.2 MB/s\u001b[0m eta \u001b[36m0:00:00\u001b[0m\n",
      "\u001b[?25hRequirement already satisfied: lxml>=4.9.1 in /usr/local/lib/python3.8/dist-packages (from yfinance) (4.9.2)\n",
      "Collecting soupsieve>1.2\n",
      "  Downloading soupsieve-2.4-py3-none-any.whl (37 kB)\n",
      "Requirement already satisfied: cffi>=1.12 in /usr/local/lib/python3.8/dist-packages (from cryptography>=3.3.2->yfinance) (1.15.1)\n",
      "Requirement already satisfied: webencodings in /usr/local/lib/python3.8/dist-packages (from html5lib>=1.1->yfinance) (0.5.1)\n",
      "Requirement already satisfied: six>=1.9 in /usr/local/lib/python3.8/dist-packages (from html5lib>=1.1->yfinance) (1.15.0)\n",
      "Requirement already satisfied: python-dateutil>=2.7.3 in /usr/local/lib/python3.8/dist-packages (from pandas>=1.3.0->yfinance) (2.8.2)\n",
      "Requirement already satisfied: idna<4,>=2.5 in /usr/local/lib/python3.8/dist-packages (from requests>=2.26->yfinance) (2.10)\n",
      "Requirement already satisfied: urllib3<1.27,>=1.21.1 in /usr/local/lib/python3.8/dist-packages (from requests>=2.26->yfinance) (1.24.3)\n",
      "Requirement already satisfied: certifi>=2017.4.17 in /usr/local/lib/python3.8/dist-packages (from requests>=2.26->yfinance) (2022.12.7)\n",
      "Requirement already satisfied: charset-normalizer<4,>=2 in /usr/local/lib/python3.8/dist-packages (from requests>=2.26->yfinance) (3.0.1)\n",
      "Requirement already satisfied: pycparser in /usr/local/lib/python3.8/dist-packages (from cffi>=1.12->cryptography>=3.3.2->yfinance) (2.21)\n",
      "Installing collected packages: soupsieve, requests, html5lib, frozendict, cryptography, beautifulsoup4, yfinance\n",
      "  Attempting uninstall: requests\n",
      "    Found existing installation: requests 2.25.1\n",
      "    Uninstalling requests-2.25.1:\n",
      "      Successfully uninstalled requests-2.25.1\n",
      "  Attempting uninstall: html5lib\n",
      "    Found existing installation: html5lib 1.0.1\n",
      "    Uninstalling html5lib-1.0.1:\n",
      "      Successfully uninstalled html5lib-1.0.1\n",
      "  Attempting uninstall: beautifulsoup4\n",
      "    Found existing installation: beautifulsoup4 4.6.3\n",
      "    Uninstalling beautifulsoup4-4.6.3:\n",
      "      Successfully uninstalled beautifulsoup4-4.6.3\n",
      "Successfully installed beautifulsoup4-4.11.2 cryptography-39.0.1 frozendict-2.3.4 html5lib-1.1 requests-2.28.2 soupsieve-2.4 yfinance-0.2.12\n"
     ]
    }
   ],
   "source": [
    "pip install yfinance"
   ]
  },
  {
   "cell_type": "code",
   "execution_count": 3,
   "metadata": {
    "colab": {
     "base_uri": "https://localhost:8080/"
    },
    "id": "9873XBrLIX92",
    "outputId": "e8282c84-cd1d-43a6-afda-47ff33431129"
   },
   "outputs": [
    {
     "name": "stdout",
     "output_type": "stream",
     "text": [
      "Looking in indexes: https://pypi.org/simple, https://us-python.pkg.dev/colab-wheels/public/simple/\n",
      "Collecting py_vollib_vectorized\n",
      "  Downloading py_vollib_vectorized-0.1.1-py3-none-any.whl (30 kB)\n",
      "Requirement already satisfied: pandas in /usr/local/lib/python3.8/dist-packages (from py_vollib_vectorized) (1.3.5)\n",
      "Requirement already satisfied: numpy in /usr/local/lib/python3.8/dist-packages (from py_vollib_vectorized) (1.21.6)\n",
      "Collecting py-lets-be-rational\n",
      "  Downloading py_lets_be_rational-1.0.1.tar.gz (18 kB)\n",
      "  Preparing metadata (setup.py) ... \u001b[?25l\u001b[?25hdone\n",
      "Requirement already satisfied: numba>=0.51.0 in /usr/local/lib/python3.8/dist-packages (from py_vollib_vectorized) (0.56.4)\n",
      "Collecting py-vollib>=1.0.1\n",
      "  Downloading py_vollib-1.0.1.tar.gz (19 kB)\n",
      "  Preparing metadata (setup.py) ... \u001b[?25l\u001b[?25hdone\n",
      "Requirement already satisfied: scipy in /usr/local/lib/python3.8/dist-packages (from py_vollib_vectorized) (1.7.3)\n",
      "Requirement already satisfied: importlib-metadata in /usr/local/lib/python3.8/dist-packages (from numba>=0.51.0->py_vollib_vectorized) (6.0.0)\n",
      "Requirement already satisfied: setuptools in /usr/local/lib/python3.8/dist-packages (from numba>=0.51.0->py_vollib_vectorized) (57.4.0)\n",
      "Requirement already satisfied: llvmlite<0.40,>=0.39.0dev0 in /usr/local/lib/python3.8/dist-packages (from numba>=0.51.0->py_vollib_vectorized) (0.39.1)\n",
      "Collecting simplejson\n",
      "  Downloading simplejson-3.18.3-cp38-cp38-manylinux_2_5_x86_64.manylinux1_x86_64.manylinux_2_17_x86_64.manylinux2014_x86_64.whl (135 kB)\n",
      "\u001b[2K     \u001b[90m━━━━━━━━━━━━━━━━━━━━━━━━━━━━━━━━━━━━━━━\u001b[0m \u001b[32m135.5/135.5 KB\u001b[0m \u001b[31m7.1 MB/s\u001b[0m eta \u001b[36m0:00:00\u001b[0m\n",
      "\u001b[?25hRequirement already satisfied: python-dateutil>=2.7.3 in /usr/local/lib/python3.8/dist-packages (from pandas->py_vollib_vectorized) (2.8.2)\n",
      "Requirement already satisfied: pytz>=2017.3 in /usr/local/lib/python3.8/dist-packages (from pandas->py_vollib_vectorized) (2022.7.1)\n",
      "Requirement already satisfied: six>=1.5 in /usr/local/lib/python3.8/dist-packages (from python-dateutil>=2.7.3->pandas->py_vollib_vectorized) (1.15.0)\n",
      "Requirement already satisfied: zipp>=0.5 in /usr/local/lib/python3.8/dist-packages (from importlib-metadata->numba>=0.51.0->py_vollib_vectorized) (3.13.0)\n",
      "Building wheels for collected packages: py-vollib, py-lets-be-rational\n",
      "  Building wheel for py-vollib (setup.py) ... \u001b[?25l\u001b[?25hdone\n",
      "  Created wheel for py-vollib: filename=py_vollib-1.0.1-py3-none-any.whl size=62855 sha256=7c268358464fc5b01af64ff0ece13aabe26a1b24b00822df6af8060d40d34c8d\n",
      "  Stored in directory: /root/.cache/pip/wheels/38/8d/d9/a680031767bd6a3d734fc7c48a75767591795e47ac66ca143c\n",
      "  Building wheel for py-lets-be-rational (setup.py) ... \u001b[?25l\u001b[?25hdone\n",
      "  Created wheel for py-lets-be-rational: filename=py_lets_be_rational-1.0.1-py3-none-any.whl size=24470 sha256=160cb3f42a47920602739da891a688c6f7a586168a3b546c4b1437621239b39e\n",
      "  Stored in directory: /root/.cache/pip/wheels/e6/67/1e/93e41aebf34e4fd3cb02a865e9c782c9edaac5051f15a01d2e\n",
      "Successfully built py-vollib py-lets-be-rational\n",
      "Installing collected packages: simplejson, py-lets-be-rational, py-vollib, py_vollib_vectorized\n",
      "Successfully installed py-lets-be-rational-1.0.1 py-vollib-1.0.1 py_vollib_vectorized-0.1.1 simplejson-3.18.3\n"
     ]
    }
   ],
   "source": [
    "pip install py_vollib_vectorized"
   ]
  },
  {
   "cell_type": "code",
   "execution_count": 4,
   "metadata": {
    "id": "ibBdUjt0RBlo"
   },
   "outputs": [],
   "source": [
    "import warnings\n",
    "warnings.simplefilter(action='ignore', category=FutureWarning)\n",
    "\n",
    "import numpy as np\n",
    "import numpy.linalg as nplin\n",
    "import scipy.linalg\n",
    "\n",
    "from scipy.linalg import expm, logm, norm\n",
    "from scipy import stats\n",
    "from scipy.spatial import procrustes\n",
    "\n",
    "import pandas as pd\n",
    "\n",
    "import math\n",
    "import matplotlib.pyplot as plt\n",
    "\n",
    "import seaborn as sns\n",
    "\n",
    "from py_vollib_vectorized import vectorized_implied_volatility as implied_vol\n",
    "\n",
    "import datetime as dt\n",
    "from pandas_datareader import data as web\n",
    "\n",
    "import yfinance as yf\n",
    "\n",
    "import statsmodels.api as sm\n",
    "import statsmodels.tsa.api as tsa\n",
    "from statsmodels.graphics.tsaplots import plot_acf, plot_pacf\n",
    "from statsmodels.tsa.stattools import acf, q_stat, adfuller\n",
    "from scipy.stats import probplot, moment"
   ]
  },
  {
   "cell_type": "markdown",
   "metadata": {
    "id": "8WQWmlmWr_MT"
   },
   "source": [
    "# Different Parametrizations\n"
   ]
  },
  {
   "cell_type": "code",
   "execution_count": 5,
   "metadata": {
    "id": "7jSNKLOwtIKI"
   },
   "outputs": [],
   "source": [
    "# vech() denotes vectorization operator to get lower elements of a matrix\n",
    "\n",
    "def vech(A):\n",
    "  d = A[np.tril_indices(len(A))]\n",
    "\n",
    "  return d"
   ]
  },
  {
   "cell_type": "code",
   "execution_count": 6,
   "metadata": {
    "id": "y5Uzg8yE54n5"
   },
   "outputs": [],
   "source": [
    "# vecl() denotes vectorization operator to get lower off-diagonal elements of a matrix\n",
    "def vecl(A):\n",
    "  b = A[np.tril_indices(len(A), k=-1)]\n",
    "\n",
    "  return b"
   ]
  },
  {
   "cell_type": "code",
   "execution_count": 7,
   "metadata": {
    "id": "vbiGVginJqnW"
   },
   "outputs": [],
   "source": [
    "# opposite of vech: mat\n",
    "def mat(v):\n",
    "  n = int(-0.5+np.sqrt(0.5**2+2*v.size))\n",
    "\n",
    "  # initalise symmetric matrix\n",
    "  matrix = np.zeros((n,n))\n",
    "  idx = np.tril_indices(n)\n",
    "\n",
    "  # fill with vector\n",
    "  matrix[idx] = v\n",
    "\n",
    "  # make lower triangular matrix to symmetric matrix\n",
    "  A = matrix+matrix.T-np.diag(np.diag(matrix))\n",
    "\n",
    "  return A"
   ]
  },
  {
   "cell_type": "code",
   "execution_count": 8,
   "metadata": {
    "id": "YIF_SbC_jmuP"
   },
   "outputs": [],
   "source": [
    "# Psi for RC\n",
    "def psiRC(l):\n",
    "  psi_rc = list()\n",
    "\n",
    "  for i in range(len(l)):\n",
    "    result_rc = vech(l[i])\n",
    "    psi_rc.append(result_rc)\n",
    "  \n",
    "  return psi_rc"
   ]
  },
  {
   "cell_type": "markdown",
   "metadata": {
    "id": "2zcBK9R2xBqI"
   },
   "source": [
    "1. Cholesky Decomposition"
   ]
  },
  {
   "cell_type": "code",
   "execution_count": 9,
   "metadata": {
    "id": "KC_Dn_AQfk05"
   },
   "outputs": [],
   "source": [
    "from scipy.linalg import cholesky\n",
    "\n",
    "def Cholesky(A):\n",
    "    '''\n",
    "    Input: Matrix\n",
    "    Output: lower triangular of matrix after cholesky decomposition as vector\n",
    "    '''\n",
    "    # if statement for psd matrices\n",
    "    # if pd matrix use cholesky\n",
    "    # else use cholesky Banachiewicz\n",
    "    # not 0 for eigenvalues, because otherwise cholesky have difficulties\n",
    "    if np.all(nplin.eigvals(A) > 0.01):\n",
    "        A = A\n",
    "    else:\n",
    "        # Add a small multiple of the identity matrix to A to make it positive-definite\n",
    "        A = A + 1e-30 * np.eye(A.shape[0]) \n",
    "\n",
    "    L = cholesky(A, lower=True)\n",
    "    psi = vech(L)\n",
    "    return psi\n"
   ]
  },
  {
   "cell_type": "code",
   "execution_count": 10,
   "metadata": {
    "id": "6JbYP_vxKBGp"
   },
   "outputs": [],
   "source": [
    "def Cholesky_Opposite(psi): \n",
    "  '''\n",
    "  Input: lower triangular of matrix after cholesky decomposition as vector\n",
    "  Output: matrix\n",
    "  '''\n",
    "  L = mat(psi)\n",
    "  A = np.dot(L,L.T)\n",
    "\n",
    "  return A"
   ]
  },
  {
   "cell_type": "markdown",
   "metadata": {
    "id": "QUP4L1RGxnVz"
   },
   "source": [
    "2. Matrix logarithm function"
   ]
  },
  {
   "cell_type": "code",
   "execution_count": 11,
   "metadata": {
    "id": "D-wUruwLxwR8"
   },
   "outputs": [],
   "source": [
    "# just use psi = vech(logm(RC))\n",
    "# for opposite RC = expm(mat(psi))"
   ]
  },
  {
   "cell_type": "markdown",
   "metadata": {
    "id": "MHHcv82tyA62"
   },
   "source": [
    "3. Spectral Decomposition: Positive semidefinite matrix approximant"
   ]
  },
  {
   "cell_type": "code",
   "execution_count": 12,
   "metadata": {
    "id": "AOgCINFAyHRD"
   },
   "outputs": [],
   "source": [
    "def Approximant_matrix(A):\n",
    "  '''\n",
    "    Input: matrix\n",
    "    Output: positive semidefinite matrix approximant if matrix was not psd\n",
    "  '''\n",
    "  l, v = nplin.eig(A)\n",
    "\n",
    "  # n shows if there was a change in l\n",
    "  n = 0\n",
    "\n",
    "  # set all negative eigenvalues to zero\n",
    "  for i in range(len(l)):\n",
    "    if l[i] < 0:\n",
    "      l[i] = 0.0\n",
    "      n = 1\n",
    "  \n",
    "  if n == 1:\n",
    "    # normalize the eigenvectors to make them orthonormal\n",
    "    v = np.column_stack(scipy.linalg.orth(v))\n",
    "    \n",
    "    # calculate positive semidefinite matrix approximant\n",
    "    RC = np.dot(v,np.dot(np.diag(l), v.T))\n",
    "  else:\n",
    "    RC = A\n",
    "  \n",
    "  return RC"
   ]
  },
  {
   "cell_type": "code",
   "execution_count": 13,
   "metadata": {
    "id": "nmzlfRlcNSme"
   },
   "outputs": [],
   "source": [
    "def Approximant(l):\n",
    "  '''\n",
    "    Input: list of matrix\n",
    "    Output: list of positive semidefinite matrix approximant if matrix was not psd\n",
    "  '''\n",
    "  Cov_approx = list()\n",
    "  for i in range(len(l)):\n",
    "    result_approx = Approximant_matrix(l[i])\n",
    "    Cov_approx.append(result_approx)\n",
    "  \n",
    "  return Cov_approx"
   ]
  },
  {
   "cell_type": "markdown",
   "metadata": {
    "id": "WFxVlMLTzmMm"
   },
   "source": [
    "4. Matrix Correlation parametrization"
   ]
  },
  {
   "cell_type": "code",
   "execution_count": 14,
   "metadata": {
    "id": "leeSsl6R3avh"
   },
   "outputs": [],
   "source": [
    "def Corr(A):\n",
    "  '''\n",
    "    Input: matrix\n",
    "    Output: d and gamma from matrix correlation parametrization\n",
    "  '''\n",
    "\n",
    "  # Decompose RC in standard deviations and correlations\n",
    "  D = np.diag(np.sqrt(np.diag(A)))\n",
    "  Dinv = np.linalg.inv(D)\n",
    "  C = np.dot(Dinv, np.dot(A, Dinv))\n",
    "\n",
    "  # calculate d and gamma\n",
    "  d = np.log(np.diag(D))\n",
    "  gamma = vecl(logm(C))\n",
    "\n",
    "  psi = (d, gamma)\n",
    "\n",
    "  return psi"
   ]
  },
  {
   "cell_type": "code",
   "execution_count": 15,
   "metadata": {
    "id": "MFX9yZUezrS0"
   },
   "outputs": [],
   "source": [
    "# Code from Supplement Material Archakov/Hansen 2021 \n",
    "# Calculate C from an estimated gamma\n",
    "# need it after forecasting\n",
    "\n",
    "def GFT_inverse_mapping(gamma_in, tol_value):\n",
    "  '''\n",
    "    Input: gamma, tolerance value\n",
    "    Code from Supplement Material Archakov/Hansen 2021 \n",
    "    Output: C and number of iterations\n",
    "  '''\n",
    "  C = []\n",
    "  iter_number = -1\n",
    "\n",
    "  try:\n",
    "    # Check if input is of proper format: gamme is of suitable length \n",
    "    # and tolerance value belongs to a proper interval\n",
    "    n = 0.5*(1+np.sqrt(1+8*len(gamma_in)))\n",
    "    if not all ([gamma_in.ndim == 1, n.is_integer(),\n",
    "                 1e-14 <= tol_value <= 1e-4]):\n",
    "      raise ValueError\n",
    "    \n",
    "    # Place elements from gamma into off-diagonal parts\n",
    "    # and put zeros on the main diagonal of nxn symmetric matrix A\n",
    "    n = int(n)\n",
    "    A = np.zeros(shape=(n,n))\n",
    "    A[np.triu_indices(n,1)] = gamma_in\n",
    "    A = A + A.T\n",
    "\n",
    "    # Read properties of the input matrix\n",
    "    diag_vec = np.diag(A)\n",
    "    diag_ind = np.diag_indices_from(A)\n",
    "\n",
    "    # Iterative algorithm to get the proper diagonal vector\n",
    "    dist = np.sqrt(n)\n",
    "    while dist > np.sqrt(n)*tol_value:\n",
    "      diag_delta = np.log(np.diag(expm(A)))\n",
    "      diag_vec = diag_vec - diag_delta\n",
    "      A[diag_ind] = diag_vec\n",
    "      dist = norm(diag_delta)\n",
    "      iter_number += 1\n",
    "\n",
    "    # Get a unique reciprocal correlation matrix\n",
    "    C = expm(A)\n",
    "    np.fill_diagonal(C, 1)\n",
    "\n",
    "  except ValueError:\n",
    "    print(\"Error: input is of wrong format\")\n",
    "  \n",
    "  return C, iter_number"
   ]
  },
  {
   "cell_type": "code",
   "execution_count": 16,
   "metadata": {
    "id": "TPfpYVNSKQh_"
   },
   "outputs": [],
   "source": [
    "def Corr_Opposite(psi):\n",
    "  '''\n",
    "    Input: psi with gamma and d\n",
    "    Output: Covariancematrix A\n",
    "  '''\n",
    "\n",
    "  # Split psi in two lists\n",
    "  d = psi[0]\n",
    "  gamma = psi[1]\n",
    "\n",
    "  D = np.diag(np.exp(d))\n",
    "  C, iter_number = GFT_inverse_mapping(gamma, 0.0000001)\n",
    "\n",
    "  A = np.dot(D,np.dot(C,D))\n",
    "\n",
    "  return A"
   ]
  },
  {
   "cell_type": "code",
   "execution_count": 17,
   "metadata": {
    "id": "yQ6GbMY998o5"
   },
   "outputs": [],
   "source": [
    "def parametrize(l):\n",
    "  '''\n",
    "    Input: list of covariance matrices\n",
    "    combines all paramtrization methods\n",
    "    Output: different psi\n",
    "  '''\n",
    "  psi_logm = list()\n",
    "  psi_corr = list()\n",
    "  psi_chol = list()\n",
    "\n",
    "  for i in range(len(l)):\n",
    "    # Cholesky\n",
    "    result_chol = Cholesky(l[i])\n",
    "    psi_chol.append(result_chol)\n",
    "\n",
    "    # Matrix logarithm\n",
    "    result_logm = vech(logm(l[i]))\n",
    "    psi_logm.append(result_logm)\n",
    "\n",
    "    # Matrix Correlation parametrization\n",
    "    result_corr = Corr(l[i])\n",
    "    psi_corr.append(result_corr)\n",
    "  \n",
    "  psi_rc = psiRC(l)\n",
    "\n",
    "  return psi_rc, psi_chol, psi_logm, psi_corr"
   ]
  },
  {
   "cell_type": "code",
   "execution_count": 18,
   "metadata": {
    "id": "ZlfnGbKIniK0"
   },
   "outputs": [],
   "source": [
    "def reverse_parametrize(prediction_rc, prediction_chol, prediction_logm, prediction_corr):\n",
    "  '''\n",
    "    Input: different predictions of psi\n",
    "    Reversing parametrizations, calculate covariance matrices\n",
    "    Output: different predictions of covariance matrix\n",
    "  '''\n",
    "  Cov_corr = list()\n",
    "  Cov_logm = list()\n",
    "  Cov_rc = list()\n",
    "  Cov_chol = list()\n",
    "  \n",
    "  for i in range(len(prediction_logm)):\n",
    "    # Calculate matrices from predicted psi\n",
    "    result_chol = Cholesky_Opposite(prediction_chol[i])\n",
    "    result_corr = Corr_Opposite(prediction_corr[i])\n",
    "    result_logm = expm(mat(prediction_logm[i]))\n",
    "    result_rc = mat(prediction_rc[i])\n",
    "\n",
    "    # append to list\n",
    "    Cov_chol.append(result_chol)\n",
    "    Cov_corr.append(result_corr)\n",
    "    Cov_logm.append(result_logm)\n",
    "    Cov_rc. append(result_rc)\n",
    "  \n",
    "  return Cov_rc, Cov_chol, Cov_logm, Cov_corr"
   ]
  },
  {
   "cell_type": "markdown",
   "metadata": {
    "id": "lIB3t1nphL_6"
   },
   "source": [
    "# VAR Model"
   ]
  },
  {
   "cell_type": "code",
   "execution_count": 19,
   "metadata": {
    "id": "P3ORKW7hhNo0"
   },
   "outputs": [],
   "source": [
    "from statsmodels.tsa.vector_ar.var_model import VAR"
   ]
  },
  {
   "cell_type": "code",
   "execution_count": 20,
   "metadata": {
    "id": "R1rX7EqU1aIo"
   },
   "outputs": [],
   "source": [
    "def VAR_model(list, h):\n",
    "\n",
    "  '''\n",
    "  Input: List with observed Psi, h forecast horizon\n",
    "\n",
    "  Predict VAR with Rolling window \n",
    "\n",
    "  Ouput: Out-of-Sample predictions\n",
    "  '''\n",
    "\n",
    "  # List in Dataframe\n",
    "  df = pd.DataFrame(list)\n",
    "\n",
    "  # test size is 1/3 of observations\n",
    "  test_size = round(1/3*len(df))\n",
    "\n",
    "  rolling_predictions = []\n",
    "\n",
    "  # T2 depends on forecast horzion p. 89 Bucci\n",
    "  for i in range(test_size-(h-1)):\n",
    "    # Rolling Window for training set\n",
    "    train = df[i:-(test_size-i)]\n",
    "\n",
    "    # fit VAR model\n",
    "    model = VAR(train)\n",
    "\n",
    "    result = model.fit()\n",
    "    \n",
    "    lag_order = result.k_ar\n",
    "    pred = result.forecast(train.values[-lag_order:], h)  \n",
    "\n",
    "    # prediction to list\n",
    "    rolling_predictions.append(pred[0])\n",
    "\n",
    "  return rolling_predictions"
   ]
  },
  {
   "cell_type": "code",
   "execution_count": 21,
   "metadata": {
    "id": "0_r_4JWRjIul"
   },
   "outputs": [],
   "source": [
    "# Predictions\n",
    "def prediction(psi_rc, psi_chol, psi_logm, psi_corr, h):\n",
    "  '''\n",
    "    Input: different psi, forecast horizont h\n",
    "    apply VAR \n",
    "    Output: predictions of psi\n",
    "  '''\n",
    "  # Prediction Cholesky\n",
    "  prediction_chol = VAR_model(psi_chol, h)\n",
    "  # Prediction logm\n",
    "  prediction_logm = VAR_model(psi_logm, h)\n",
    "\n",
    "  # Prediction RC\n",
    "  prediction_rc = VAR_model(psi_rc, h)\n",
    "\n",
    "  # Prediction corr\n",
    "  prediction_corr = list()\n",
    "  d, gamma = zip(*psi_corr)\n",
    "\n",
    "  prediction_d = VAR_model(d, h)\n",
    "  prediction_gamma = VAR_model(gamma, h)\n",
    "\n",
    "  for i in range(len(prediction_d)):\n",
    "    result_corr = (prediction_d[i], prediction_gamma[i])\n",
    "    prediction_corr.append(result_corr)\n",
    "  \n",
    "  return prediction_rc, prediction_chol, prediction_logm, prediction_corr\n",
    "\n"
   ]
  },
  {
   "cell_type": "markdown",
   "metadata": {
    "id": "Lf2AwS5l7X8e"
   },
   "source": [
    "# Predictive Accuracy\n"
   ]
  },
  {
   "cell_type": "code",
   "execution_count": 22,
   "metadata": {
    "id": "UFzUMxyYTtx-"
   },
   "outputs": [],
   "source": [
    "from scipy.spatial import procrustes\n",
    "from collections import namedtuple"
   ]
  },
  {
   "cell_type": "code",
   "execution_count": 23,
   "metadata": {
    "id": "iUkXsIzTSk9l"
   },
   "outputs": [],
   "source": [
    "def Accuracy(Cov_rc, Cov_chol, Cov_logm, Cov_approx, Cov_corr, RC):\n",
    "  '''\n",
    "    Input: different Covariances\n",
    "    Calculates Procrustes and Frobenius norm\n",
    "    Output: Procrustes and Frobenius norm for different parametrizations\n",
    "  '''\n",
    "  n = len(Cov_logm)\n",
    "  names = np.array([\"RC\", \"Cholesky\", \"Logm\", \"Approx\", \"Corr\"])\n",
    "\n",
    "  logm1 = np.zeros(n)\n",
    "  logm2 = np.zeros(n)\n",
    "  rc1 = np.zeros(n)\n",
    "  rc2 = np.zeros(n)\n",
    "  chol1 = np.zeros(n)\n",
    "  chol2 = np.zeros(n)\n",
    "  corr1 = np.zeros(n)\n",
    "  corr2 = np.zeros(n)\n",
    "  approx1 = np.zeros(n)\n",
    "  approx2 = np.zeros(n)\n",
    "\n",
    "  for i in range(n):\n",
    "    # Procrustes\n",
    "    rc1[i] = procrustes(RC[-i], Cov_rc[-i])[2]\n",
    "    chol1[i] = procrustes(RC[-i], Cov_chol[-i])[2]\n",
    "    logm1[i] = procrustes(RC[-i], Cov_logm[-i])[2]\n",
    "    approx1[i] = procrustes(RC[-i], Cov_approx[-i])[2]\n",
    "    corr1[i] = procrustes(RC[-i], Cov_corr[-i])[2]\n",
    "    # Frobenius Norm\n",
    "    rc2[i] = nplin.norm(RC[-i]-Cov_rc[-i])\n",
    "    chol2[i] = nplin.norm(RC[-i]-Cov_chol[-i])\n",
    "    logm2[i] = nplin.norm(RC[-i]-Cov_logm[-i])\n",
    "    approx2[i] = nplin.norm(RC[-i]-Cov_approx[-i])\n",
    "    corr2[i] = nplin.norm(RC[-i]-Cov_corr[-i])\n",
    "  \n",
    "  l = np.array([round(rc1.mean(), 5), round(chol1.mean(), 5), round(logm1.mean(), 5),\n",
    "       round(approx1.mean(), 5), round(corr1.mean(), 5)])\n",
    "  b = np.array([round(rc2.mean(), 2), round(chol2.mean(), 2), round(logm2.mean(), 2),\n",
    "       round(approx2.mean(), 2), round(corr2.mean(), 2)])\n",
    "  \n",
    "  accuracy = pd.DataFrame([l, b]).T\n",
    "\n",
    "\n",
    "  return accuracy"
   ]
  },
  {
   "cell_type": "markdown",
   "metadata": {
    "id": "OknhJOO1XYTD"
   },
   "source": [
    "# Stockdata\n",
    "\n"
   ]
  },
  {
   "cell_type": "code",
   "execution_count": 24,
   "metadata": {
    "colab": {
     "base_uri": "https://localhost:8080/"
    },
    "id": "WNIGf2xIXaw7",
    "outputId": "e800174f-0faf-4f3c-ea0f-2fb4232a9ec5"
   },
   "outputs": [
    {
     "name": "stdout",
     "output_type": "stream",
     "text": [
      "[*********************100%***********************]  1 of 1 completed\n",
      "[*********************100%***********************]  1 of 1 completed\n",
      "[*********************100%***********************]  1 of 1 completed\n",
      "[*********************100%***********************]  1 of 1 completed\n",
      "[*********************100%***********************]  1 of 1 completed\n",
      "[*********************100%***********************]  1 of 1 completed\n",
      "[*********************100%***********************]  1 of 1 completed\n",
      "[*********************100%***********************]  1 of 1 completed\n",
      "[*********************100%***********************]  1 of 1 completed\n",
      "[*********************100%***********************]  1 of 1 completed\n",
      "[*********************100%***********************]  1 of 1 completed\n",
      "[*********************100%***********************]  1 of 1 completed\n",
      "[*********************100%***********************]  1 of 1 completed\n",
      "[*********************100%***********************]  1 of 1 completed\n",
      "[*********************100%***********************]  1 of 1 completed\n"
     ]
    }
   ],
   "source": [
    "# s20 years of daily stock data\n",
    "\n",
    "start = pd.Timestamp('2003-01-01')\n",
    "end = pd.Timestamp('2023-01-01')\n",
    "\n",
    "mercedes = yf.download('MBG.DE', start, end)\n",
    "allianz = yf.download('ALV.DE', start, end)\n",
    "sap = yf.download('SAP.DE', start, end)\n",
    "siemens = yf.download('SIE.DE', start, end)\n",
    "telekom = yf.download('DTE.DE', start, end)\n",
    "bayer = yf.download('BAYN.DE', start, end)\n",
    "basf = yf.download('BAS.DE', start, end)\n",
    "rück = yf.download('MUV2.DE', start, end)\n",
    "infineon = yf.download('IFX.DE', start, end)\n",
    "post = yf.download('DPW.DE', start, end)\n",
    "boerse = yf.download('DB1.DE', start, end)\n",
    "rwe = yf.download('RWE.DE', start, end)\n",
    "volkswagen = yf.download('VOW3.DE', start, end)\n",
    "bmw = yf.download('BMW.DE', start, end)\n",
    "merck = yf.download('MRK.DE', start, end)\n"
   ]
  },
  {
   "cell_type": "code",
   "execution_count": 25,
   "metadata": {
    "id": "kzDoM53kaAal"
   },
   "outputs": [],
   "source": [
    "# Returns as percentage price changes\n",
    "def returns(df):\n",
    "  df['Return'] = 100 * (df['Close'].pct_change())\n",
    "  df['Log_Return'] = np.log(df['Close']).diff().mul(100) # rescale to faciliate optimization\n",
    "  df = df.dropna()\n",
    "\n",
    "  return df"
   ]
  },
  {
   "cell_type": "code",
   "execution_count": 26,
   "metadata": {
    "id": "v4_jQMN-bd2N"
   },
   "outputs": [],
   "source": [
    "mercedes = returns(mercedes)\n",
    "allianz = returns(allianz)\n",
    "sap = returns(sap)\n",
    "siemens = returns(siemens)\n",
    "telekom = returns(telekom)\n",
    "bayer = returns(bayer)\n",
    "basf = returns(basf)\n",
    "rück = returns(rück)\n",
    "infineon = returns(infineon)\n",
    "post = returns(post)\n",
    "boerse = returns(boerse)\n",
    "rwe = returns(rwe)\n",
    "vw = returns(volkswagen)\n",
    "bmw = returns(bmw)\n",
    "merck = returns(merck)"
   ]
  },
  {
   "cell_type": "code",
   "execution_count": 27,
   "metadata": {
    "id": "b3FFsFq4cWN5"
   },
   "outputs": [],
   "source": [
    "# one data frame with all returns\n",
    "# concenate dataframes along axis = 0\n",
    "data = pd.concat([allianz['Return'], sap['Return'], \n",
    "                  siemens['Return'], telekom['Return'], mercedes['Return'], bayer['Return'],\n",
    "                 basf['Return'],rück['Return'],infineon['Return'],\n",
    "                 post['Return'],boerse['Return'],rwe['Return'],\n",
    "                 vw['Return'],bmw['Return'],merck['Return']],axis = 1)\n",
    "\n",
    "# Change names\n",
    "data.columns.values[0] = \"Allianz\"\n",
    "data.columns.values[1] = \"SAP\"\n",
    "data.columns.values[2] = \"Siemens\"\n",
    "data.columns.values[3] = \"Telekom\"\n",
    "data.columns.values[4] = \"Mercedes\"\n",
    "data.columns.values[5] = \"Bayer\"\n",
    "data.columns.values[6] = \"BASF\"\n",
    "data.columns.values[7] = \"Muenchner Rueck\"\n",
    "data.columns.values[8] = \"Infineon\"\n",
    "data.columns.values[9] = \"Deutsche Post\"\n",
    "data.columns.values[10] = \"Deutsche Boerse\"\n",
    "data.columns.values[11] = \"RWE\"\n",
    "data.columns.values[12] = \"VW\"\n",
    "data.columns.values[13] = \"BMW\"\n",
    "data.columns.values[14] = \"Merck\""
   ]
  },
  {
   "cell_type": "code",
   "execution_count": 28,
   "metadata": {
    "colab": {
     "base_uri": "https://localhost:8080/"
    },
    "id": "ZJeEXtZOB5fY",
    "outputId": "b419fbe3-1a18-43c4-dccb-cdd81f0ff2b8"
   },
   "outputs": [
    {
     "name": "stdout",
     "output_type": "stream",
     "text": [
      "Looking in indexes: https://pypi.org/simple, https://us-python.pkg.dev/colab-wheels/public/simple/\n",
      "Collecting arch\n",
      "  Downloading arch-5.3.1-cp38-cp38-manylinux_2_17_x86_64.manylinux2014_x86_64.whl (907 kB)\n",
      "\u001b[2K     \u001b[90m━━━━━━━━━━━━━━━━━━━━━━━━━━━━━━━━━━━━━━\u001b[0m \u001b[32m907.3/907.3 KB\u001b[0m \u001b[31m13.2 MB/s\u001b[0m eta \u001b[36m0:00:00\u001b[0m\n",
      "\u001b[?25hRequirement already satisfied: pandas>=1.0 in /usr/local/lib/python3.8/dist-packages (from arch) (1.3.5)\n",
      "Requirement already satisfied: statsmodels>=0.11 in /usr/local/lib/python3.8/dist-packages (from arch) (0.12.2)\n",
      "Requirement already satisfied: numpy>=1.17 in /usr/local/lib/python3.8/dist-packages (from arch) (1.21.6)\n",
      "Collecting property-cached>=1.6.4\n",
      "  Downloading property_cached-1.6.4-py2.py3-none-any.whl (7.8 kB)\n",
      "Requirement already satisfied: scipy>=1.3 in /usr/local/lib/python3.8/dist-packages (from arch) (1.7.3)\n",
      "Requirement already satisfied: pytz>=2017.3 in /usr/local/lib/python3.8/dist-packages (from pandas>=1.0->arch) (2022.7.1)\n",
      "Requirement already satisfied: python-dateutil>=2.7.3 in /usr/local/lib/python3.8/dist-packages (from pandas>=1.0->arch) (2.8.2)\n",
      "Requirement already satisfied: patsy>=0.5 in /usr/local/lib/python3.8/dist-packages (from statsmodels>=0.11->arch) (0.5.3)\n",
      "Requirement already satisfied: six in /usr/local/lib/python3.8/dist-packages (from patsy>=0.5->statsmodels>=0.11->arch) (1.15.0)\n",
      "Installing collected packages: property-cached, arch\n",
      "Successfully installed arch-5.3.1 property-cached-1.6.4\n"
     ]
    }
   ],
   "source": [
    "pip install arch"
   ]
  },
  {
   "cell_type": "code",
   "execution_count": 29,
   "metadata": {
    "id": "RuXnUKLc9f-y"
   },
   "outputs": [],
   "source": [
    "# check stationarity of log returns\n",
    "from statsmodels.tsa.stattools import adfuller, kpss\n",
    "from arch.unitroot import ADF, PhillipsPerron"
   ]
  },
  {
   "cell_type": "code",
   "execution_count": 30,
   "metadata": {
    "id": "ccFOrv_69lWw"
   },
   "outputs": [],
   "source": [
    "def stationarity(df, sig_level):\n",
    "  # ADF Test\n",
    "  # H0 is non stationary\n",
    "  p_adf = ADF(df).pvalue\n",
    "  stat_adf = np.round(ADF(df).stat,4)\n",
    "\n",
    "  # KPSS Test\n",
    "  # H0 is stationary\n",
    "  p_kpss = kpss(df)[1]\n",
    "  stat_kpss = np.round(kpss(df)[0],4)\n",
    "\n",
    "  # Phillips-Perron Testing\n",
    "  p_pp = PhillipsPerron(df).pvalue\n",
    "  stat_pp = np.round(PhillipsPerron(df).stat, 4)\n",
    "\n",
    "  stationary = False\n",
    "\n",
    "  if p_adf < sig_level and p_kpss > sig_level and p_pp < sig_level:\n",
    "    stationary = True\n",
    "  \n",
    "\n",
    "  return stationary, stat_adf, p_adf, stat_kpss, p_kpss, stat_pp, p_pp\n"
   ]
  },
  {
   "cell_type": "code",
   "execution_count": 31,
   "metadata": {
    "colab": {
     "base_uri": "https://localhost:8080/"
    },
    "id": "-8uiOF-29xvQ",
    "outputId": "6103da00-e040-4ecd-b9da-205adb95ab2a"
   },
   "outputs": [
    {
     "name": "stdout",
     "output_type": "stream",
     "text": [
      "(True, -13.9903, 4.028182592042453e-26, 0.0218, 0.1, -69.984, 0.0)\n",
      "(True, -15.0525, 9.248831851892348e-28, 0.0864, 0.1, -72.2748, 0.0)\n",
      "(True, -18.0905, 2.570923528222087e-30, 0.0438, 0.1, -72.2076, 0.0)\n",
      "(True, -20.4206, 0.0, 0.06, 0.1, -75.5034, 0.0)\n",
      "(True, -12.792, 7.044238317767152e-24, 0.0358, 0.1, -68.4504, 0.0)\n",
      "(True, -19.0585, 0.0, 0.3127, 0.1, -74.1997, 0.0)\n",
      "(True, -14.1816, 1.9244540625638161e-26, 0.269, 0.1, -71.8758, 0.0)\n",
      "(True, -25.9713, 0.0, 0.0562, 0.1, -70.6503, 0.0)\n",
      "(True, -12.0093, 3.2086375761151044e-22, 0.0407, 0.1, -68.5031, 0.0)\n",
      "(True, -20.7917, 0.0, 0.0639, 0.1, -70.6604, 0.0)\n",
      "(True, -23.0534, 0.0, 0.0599, 0.1, -72.446, 0.0)\n",
      "(True, -20.1522, 0.0, 0.1814, 0.1, -70.5895, 0.0)\n",
      "(True, -19.141, 0.0, 0.1599, 0.1, -67.929, 0.0)\n",
      "(True, -13.4894, 3.127214439251857e-25, 0.0624, 0.1, -69.7622, 0.0)\n",
      "(True, -73.9207, 0.0, 0.0958, 0.1, -74.2042, 0.0)\n"
     ]
    }
   ],
   "source": [
    "for i in range(15):\n",
    "  with warnings.catch_warnings():\n",
    "    warnings.simplefilter(\"ignore\")\n",
    "    print(stationarity(data[data.columns[i]], 0.01))\n"
   ]
  },
  {
   "cell_type": "code",
   "execution_count": 32,
   "metadata": {
    "colab": {
     "base_uri": "https://localhost:8080/"
    },
    "id": "3-fsI97FGbza",
    "outputId": "5038484e-55dc-46c4-fc96-52f749d79f51"
   },
   "outputs": [
    {
     "name": "stdout",
     "output_type": "stream",
     "text": [
      "[*********************100%***********************]  1 of 1 completed\n",
      "[*********************100%***********************]  1 of 1 completed\n",
      "[*********************100%***********************]  1 of 1 completed\n",
      "[*********************100%***********************]  1 of 1 completed\n",
      "[*********************100%***********************]  1 of 1 completed\n",
      "[*********************100%***********************]  1 of 1 completed\n",
      "[*********************100%***********************]  1 of 1 completed\n",
      "[*********************100%***********************]  1 of 1 completed\n",
      "[*********************100%***********************]  1 of 1 completed\n",
      "[*********************100%***********************]  1 of 1 completed\n",
      "[*********************100%***********************]  1 of 1 completed\n",
      "[*********************100%***********************]  1 of 1 completed\n",
      "[*********************100%***********************]  1 of 1 completed\n",
      "[*********************100%***********************]  1 of 1 completed\n",
      "[*********************100%***********************]  1 of 1 completed\n"
     ]
    }
   ],
   "source": [
    "# monthly data\n",
    "# 20 years and one additional month because first observation lost when calculating returns\n",
    "start = pd.Timestamp('2002-12-01')\n",
    "end = pd.Timestamp('2023-01-01')\n",
    "\n",
    "mercedes = yf.download('MBG.DE', start, end, interval = \"1mo\")\n",
    "allianz = yf.download('ALV.DE', start, end, interval = \"1mo\")\n",
    "sap = yf.download('SAP.DE', start, end, interval = \"1mo\")\n",
    "siemens = yf.download('SIE.DE', start, end, interval = \"1mo\")\n",
    "telekom = yf.download('DTE.DE', start, end, interval = \"1mo\")\n",
    "bayer = yf.download('BAYN.DE', start, end, interval = \"1mo\")\n",
    "basf = yf.download('BAS.DE', start, end, interval = \"1mo\")\n",
    "rück = yf.download('MUV2.DE', start, end, interval = \"1mo\")\n",
    "infineon = yf.download('IFX.DE', start, end, interval = \"1mo\")\n",
    "post = yf.download('DPW.DE', start, end, interval = \"1mo\")\n",
    "boerse = yf.download('DB1.DE', start, end, interval = \"1mo\")\n",
    "rwe = yf.download('RWE.DE', start, end, interval = \"1mo\")\n",
    "volkswagen = yf.download('VOW3.DE', start, end, interval = \"1mo\")\n",
    "bmw = yf.download('BMW.DE', start, end, interval = \"1mo\")\n",
    "merck = yf.download('MRK.DE', start, end, interval = \"1mo\")"
   ]
  },
  {
   "cell_type": "code",
   "execution_count": 33,
   "metadata": {
    "id": "eEaXGnZzHxNm"
   },
   "outputs": [],
   "source": [
    "mercedes = returns(mercedes)\n",
    "allianz = returns(allianz)\n",
    "sap = returns(sap)\n",
    "siemens = returns(siemens)\n",
    "telekom = returns(telekom)\n",
    "bayer = returns(bayer)\n",
    "basf = returns(basf)\n",
    "rück = returns(rück)\n",
    "infineon = returns(infineon)\n",
    "post = returns(post)\n",
    "boerse = returns(boerse)\n",
    "rwe = returns(rwe)\n",
    "vw = returns(volkswagen)\n",
    "bmw = returns(bmw)\n",
    "merck = returns(merck)"
   ]
  },
  {
   "cell_type": "code",
   "execution_count": 34,
   "metadata": {
    "id": "jKAzPUsMGhQu"
   },
   "outputs": [],
   "source": [
    "# one data frame with all returns\n",
    "# concenate dataframes along axis = 0\n",
    "data_monthly = pd.concat([allianz['Return'], sap['Return'], \n",
    "                  siemens['Return'], telekom['Return'], mercedes['Return'], bayer['Return'],\n",
    "                 basf['Return'],rück['Return'],infineon['Return'],\n",
    "                 post['Return'],boerse['Return'],rwe['Return'],\n",
    "                 vw['Return'],bmw['Return'],merck['Return']],axis = 1)\n",
    "\n",
    "# Change names\n",
    "data_monthly .columns.values[0] = \"Allianz\"\n",
    "data_monthly .columns.values[1] = \"SAP\"\n",
    "data_monthly .columns.values[2] = \"Siemens\"\n",
    "data_monthly .columns.values[3] = \"Telekom\"\n",
    "data_monthly .columns.values[4] = \"Mercedes\"\n",
    "data_monthly .columns.values[5] = \"Bayer\"\n",
    "data_monthly .columns.values[6] = \"BASF\"\n",
    "data_monthly .columns.values[7] = \"Muenchner Rueck\"\n",
    "data_monthly .columns.values[8] = \"Infineon\"\n",
    "data_monthly .columns.values[9] = \"Deutsche Post\"\n",
    "data_monthly .columns.values[10] = \"Deutsche Boerse\"\n",
    "data_monthly .columns.values[11] = \"RWE\"\n",
    "data_monthly .columns.values[12] = \"VW\"\n",
    "data_monthly .columns.values[13] = \"BMW\"\n",
    "data_monthly .columns.values[14] = \"Merck\""
   ]
  },
  {
   "cell_type": "code",
   "execution_count": 35,
   "metadata": {
    "colab": {
     "base_uri": "https://localhost:8080/"
    },
    "id": "OQfX2mE7-DCX",
    "outputId": "b4023c14-fc2f-4e1e-ad9a-4d96eacea5c2"
   },
   "outputs": [
    {
     "name": "stdout",
     "output_type": "stream",
     "text": [
      "(True, -7.6696, 1.606955595098938e-11, 0.0477, 0.1, -17.2438, 6.083860691345698e-30)\n",
      "(True, -8.7176, 3.4536407062887626e-14, 0.1443, 0.1, -17.539, 4.198666274227725e-30)\n",
      "(True, -15.2206, 5.491808250665542e-28, 0.0615, 0.1, -15.3545, 3.6825514473680523e-28)\n",
      "(True, -12.6105, 1.659684864579194e-23, 0.1275, 0.1, -16.8055, 1.210743359276083e-29)\n",
      "(True, -15.1494, 6.830762729112869e-28, 0.0414, 0.1, -15.1484, 6.851489639012632e-28)\n",
      "(True, -15.8363, 9.80927818089156e-29, 0.3801, 0.0857310974924432, -15.9142, 8.059775903256678e-29)\n",
      "(True, -14.3449, 1.0448631551869386e-26, 0.3132, 0.1, -14.327, 1.116424151272572e-26)\n",
      "(True, -7.8019, 7.454017667380853e-12, 0.093, 0.1, -22.7523, 0.0)\n",
      "(True, -8.1127, 1.213598936917614e-12, 0.0388, 0.1, -11.2129, 2.1035977728076595e-20)\n",
      "(True, -6.6121, 6.340188184254376e-09, 0.0669, 0.1, -15.0892, 8.240410428932335e-28)\n",
      "(True, -9.5341, 2.839938151650453e-16, 0.0832, 0.1, -14.6974, 2.9838274546816944e-27)\n",
      "(True, -15.7435, 1.2476052549144031e-28, 0.192, 0.1, -15.7479, 1.2333630209605881e-28)\n",
      "(True, -11.7415, 1.2702284349912897e-21, 0.2522, 0.1, -15.4835, 2.5379540292920364e-28)\n",
      "(True, -8.8967, 1.2014322595703321e-14, 0.0692, 0.1, -16.375, 2.786946531051866e-29)\n",
      "(True, -16.585, 1.8200309909221873e-29, 0.1182, 0.1, -16.614, 1.7211303987774073e-29)\n"
     ]
    }
   ],
   "source": [
    "# stationarity of monthly data\n",
    "for i in range(15):\n",
    "  with warnings.catch_warnings():\n",
    "    warnings.simplefilter(\"ignore\")\n",
    "    print(stationarity(data_monthly[data_monthly.columns[i]], 0.01))"
   ]
  },
  {
   "cell_type": "code",
   "execution_count": 36,
   "metadata": {
    "id": "A_lYG7DQCREe"
   },
   "outputs": [],
   "source": [
    "# data as csv for upload in R for the multivariate GARCH models\n",
    "data_monthly.to_csv(\"returns.csv\", index = False)"
   ]
  },
  {
   "cell_type": "code",
   "execution_count": 37,
   "metadata": {
    "id": "E68jTK_hKpZq"
   },
   "outputs": [],
   "source": [
    "# extract the year and month from the datetime object\n",
    "data['year'] = data.index.year\n",
    "data['month'] = data.index.month"
   ]
  },
  {
   "cell_type": "code",
   "execution_count": 38,
   "metadata": {
    "id": "vR9xv-Hmdfed"
   },
   "outputs": [],
   "source": [
    "# calculate covariance matrix for every month, n is weekly, monthly etc, n=5 is weekly\n",
    "# n = 21 is monthly\n",
    "def realized_Cov(df, n_stocks):\n",
    "  '''\n",
    "  Input: dataframe of log returns\n",
    "  Output: realized Covariances as list\n",
    "  ''' \n",
    "  RC = list()\n",
    "\n",
    "\n",
    "  for y in range(2003,2023):\n",
    "    year = df.loc[df['year'] == y]\n",
    "    for m in range(1,13):\n",
    "      d = year.loc[year['month'] == m]\n",
    "      d = d.iloc[:,0:n_stocks]\n",
    "      result = np.zeros((len(d.columns), len(d.columns)))\n",
    "      for j in range(len(d)):\n",
    "        a = np.asarray([d.iloc[j,:]])\n",
    "        b = np.dot(a.T,a)\n",
    "        result = result+b\n",
    "\n",
    "      RC.append(result)\n",
    "  \n",
    "  return RC\n"
   ]
  },
  {
   "cell_type": "code",
   "execution_count": 39,
   "metadata": {
    "id": "rq3TzPjFh3FK"
   },
   "outputs": [],
   "source": [
    "# Calculate RC for 5, 10 and 15 stocks\n",
    "RC5 = realized_Cov(data,5)\n",
    "RC10 = realized_Cov(data, 10)\n",
    "RC15 = realized_Cov(data, 15)"
   ]
  },
  {
   "cell_type": "code",
   "execution_count": 40,
   "metadata": {
    "id": "yNOg1GaiyWXG"
   },
   "outputs": [],
   "source": [
    "# function for checking definitness\n",
    "def definitness(l):\n",
    "  '''\n",
    "  Input: List of matrices\n",
    "  Output: counter for not at least positive definite matrix\n",
    "  if i = 0 all matrices at least positive definite\n",
    "  '''\n",
    "  i = 0\n",
    "  for j in range(len(l)):\n",
    "    # use not zero because of computational erros when using matrix approximant\n",
    "    if np.all(nplin.eigvals(l[j]) >= -10**(-5)):\n",
    "      i += 0\n",
    "    else:\n",
    "      i += 1\n",
    "\n",
    "  return i"
   ]
  },
  {
   "cell_type": "code",
   "execution_count": 41,
   "metadata": {
    "colab": {
     "base_uri": "https://localhost:8080/"
    },
    "id": "gXTgVytODIW7",
    "outputId": "271877aa-c94d-4cb0-b542-55b74e0cad7d"
   },
   "outputs": [
    {
     "data": {
      "text/plain": [
       "(0, 0, 0)"
      ]
     },
     "execution_count": 41,
     "metadata": {},
     "output_type": "execute_result"
    }
   ],
   "source": [
    "# Check if matrizes are at least positive semidefinite\n",
    "definitness(RC5), definitness(RC10), definitness(RC15)"
   ]
  },
  {
   "cell_type": "markdown",
   "metadata": {
    "id": "KPdssdD_WEx_"
   },
   "source": [
    "## Descriptive Statistics"
   ]
  },
  {
   "cell_type": "code",
   "execution_count": 42,
   "metadata": {
    "colab": {
     "base_uri": "https://localhost:8080/"
    },
    "id": "9diAq47saSUi",
    "outputId": "4f2b6c06-7a7f-4ceb-956f-4ff4531cf8c6"
   },
   "outputs": [
    {
     "data": {
      "text/plain": [
       "Allianz            0.716951\n",
       "SAP                0.925286\n",
       "Siemens            0.777130\n",
       "Telekom            0.350044\n",
       "Mercedes           0.742797\n",
       "Bayer              0.679643\n",
       "BASF               0.674165\n",
       "Muenchner Rueck    0.706481\n",
       "Infineon           1.652971\n",
       "Deutsche Post      0.844862\n",
       "Deutsche Boerse    0.969767\n",
       "RWE                0.596039\n",
       "VW                 1.285028\n",
       "BMW                0.768044\n",
       "Merck              1.365335\n",
       "dtype: float64"
      ]
     },
     "execution_count": 42,
     "metadata": {},
     "output_type": "execute_result"
    }
   ],
   "source": [
    "# average return\n",
    "data_monthly.mean()"
   ]
  },
  {
   "cell_type": "code",
   "execution_count": 43,
   "metadata": {
    "colab": {
     "base_uri": "https://localhost:8080/"
    },
    "id": "4fDm87gbYj5S",
    "outputId": "e55e1a8b-0ce6-430c-a940-807624951bd5"
   },
   "outputs": [
    {
     "data": {
      "text/plain": [
       "(Allianz             39.537437\n",
       " SAP                 32.181436\n",
       " Siemens             18.646833\n",
       " Telekom             18.496538\n",
       " Mercedes            42.269395\n",
       " Bayer               30.904733\n",
       " BASF                30.295310\n",
       " Muenchner Rueck     70.476190\n",
       " Infineon           131.609253\n",
       " Deutsche Post       30.520237\n",
       " Deutsche Boerse     24.738867\n",
       " RWE                 24.679805\n",
       " VW                  37.903133\n",
       " BMW                 26.333079\n",
       " Merck               22.673342\n",
       " dtype: float64, Allianz           -39.738262\n",
       " SAP               -31.086169\n",
       " Siemens           -29.338403\n",
       " Telekom           -19.937649\n",
       " Mercedes          -26.691530\n",
       " Bayer             -25.259297\n",
       " BASF              -22.755556\n",
       " Muenchner Rueck   -37.185931\n",
       " Infineon          -48.108125\n",
       " Deutsche Post     -41.474968\n",
       " Deutsche Boerse   -52.393133\n",
       " RWE               -29.313985\n",
       " VW                -44.905147\n",
       " BMW               -26.291685\n",
       " Merck             -19.713260\n",
       " dtype: float64)"
      ]
     },
     "execution_count": 43,
     "metadata": {},
     "output_type": "execute_result"
    }
   ],
   "source": [
    "# maximum and minimum return per month\n",
    "data_monthly.max(), data_monthly.min()"
   ]
  },
  {
   "cell_type": "code",
   "execution_count": 44,
   "metadata": {
    "colab": {
     "base_uri": "https://localhost:8080/"
    },
    "id": "NEi3qtOGW359",
    "outputId": "377b722f-fb6c-40aa-98f2-1fcd4c72dbd5"
   },
   "outputs": [
    {
     "data": {
      "text/plain": [
       "Allianz             83.314767\n",
       "SAP                 58.065001\n",
       "Siemens             73.194316\n",
       "Telekom             50.673959\n",
       "Mercedes            99.726628\n",
       "Bayer               79.157116\n",
       "BASF                69.421461\n",
       "Muenchner Rueck     64.445111\n",
       "Infineon           168.306418\n",
       "Deutsche Post       68.043024\n",
       "Deutsche Boerse     88.160305\n",
       "RWE                 82.873100\n",
       "VW                 117.569837\n",
       "BMW                 81.497336\n",
       "Merck               60.733141\n",
       "dtype: float64"
      ]
     },
     "execution_count": 44,
     "metadata": {},
     "output_type": "execute_result"
    }
   ],
   "source": [
    "# average variance\n",
    "var = []\n",
    "for i in range(len(RC15)):\n",
    "  var.append(np.diag(RC15[i]))\n",
    "\n",
    "var = pd.DataFrame(var)\n",
    "names = np.array([\"Allianz\", \"SAP\", \"Siemens\", \"Telekom\", \"Mercedes\", \"Bayer\", \"BASF\",\n",
    "          \"Muenchner Rueck\", \"Infineon\", \"Deutsche Post\", \"Deutsche Boerse\", \n",
    "          \"RWE\", \"VW\", \"BMW\", \"Merck\"])\n",
    "var.columns = names\n",
    "\n",
    "var.mean()\n",
    "\n",
    "# Infineon largest varaince on average and Telekom smallest"
   ]
  },
  {
   "cell_type": "code",
   "execution_count": 45,
   "metadata": {
    "colab": {
     "base_uri": "https://localhost:8080/"
    },
    "id": "LM_nu87TYQiZ",
    "outputId": "1a285fb4-4603-4a0d-c73b-3a8bb534c3e3"
   },
   "outputs": [
    {
     "data": {
      "text/plain": [
       "(Allianz            1758.678838\n",
       " SAP                 863.919844\n",
       " Siemens            1627.409486\n",
       " Telekom             914.145792\n",
       " Mercedes           1812.928893\n",
       " Bayer              1782.451207\n",
       " BASF               1168.790327\n",
       " Muenchner Rueck    1059.891255\n",
       " Infineon           2521.598427\n",
       " Deutsche Post      1203.130443\n",
       " Deutsche Boerse    2510.327415\n",
       " RWE                 974.320843\n",
       " VW                 1942.384565\n",
       " BMW                 818.869228\n",
       " Merck               467.737684\n",
       " dtype: float64, Allianz             4.160861\n",
       " SAP                 6.354936\n",
       " Siemens             4.304891\n",
       " Telekom             4.019180\n",
       " Mercedes            7.085052\n",
       " Bayer              12.308163\n",
       " BASF                7.402388\n",
       " Muenchner Rueck     5.092818\n",
       " Infineon           14.453312\n",
       " Deutsche Post       7.702516\n",
       " Deutsche Boerse     6.359611\n",
       " RWE                 9.449589\n",
       " VW                  7.963550\n",
       " BMW                 7.200511\n",
       " Merck               8.135889\n",
       " dtype: float64)"
      ]
     },
     "execution_count": 45,
     "metadata": {},
     "output_type": "execute_result"
    }
   ],
   "source": [
    "var.max(), var.min()"
   ]
  },
  {
   "cell_type": "markdown",
   "metadata": {
    "id": "a8uWgGhZjWS-"
   },
   "source": [
    "# Plot of Data"
   ]
  },
  {
   "cell_type": "code",
   "execution_count": 46,
   "metadata": {
    "colab": {
     "base_uri": "https://localhost:8080/",
     "height": 652
    },
    "id": "m8dE2-eQj53I",
    "outputId": "a466c670-d218-4672-e919-f6706b6cddfd"
   },
   "outputs": [
    {
     "data": {
      "text/plain": [
       "[Text(0, 0, '2004'),\n",
       " Text(0, 0, '2008'),\n",
       " Text(0, 0, '2012'),\n",
       " Text(0, 0, '2016'),\n",
       " Text(0, 0, '2020')]"
      ]
     },
     "execution_count": 46,
     "metadata": {},
     "output_type": "execute_result"
    },
    {
     "data": {
      "image/png": "[encoded data removed]",
      "text/plain": [
       "<Figure size 1800x720 with 2 Axes>"
      ]
     },
     "metadata": {
      "needs_background": "light"
     },
     "output_type": "display_data"
    }
   ],
   "source": [
    "fig, axs = plt.subplots(nrows=1, ncols=2, figsize=(25, 10))\n",
    "plt.rcParams['font.size'] = 20\n",
    "\n",
    "# plot returns\n",
    "axs[0].plot(data_monthly['Infineon'], label = 'Infineon', color = '#3333B3')\n",
    "axs[0].plot(data_monthly['Telekom'], label = 'Telekom', color = '#DE353E')\n",
    "axs[0].set_ylabel('Returns')\n",
    "#axs[0].set_title('Returns')\n",
    "axs[0].legend()\n",
    "\n",
    "# plot variance\n",
    "axs[1].plot(var['Infineon'], label = 'Infineon', color = '#3333B3')\n",
    "axs[1].plot(var['Telekom'], label = 'Telekom', color = '#DE353E')\n",
    "axs[1].set_ylabel('Realized Variance')\n",
    "#axs[1].set_title('Realized Variance')\n",
    "axs[1].legend()\n",
    "axs[1].set_xticks([12, 60, 108, 156, 204])\n",
    "axs[1].set_xticklabels([2004, 2008, 2012, 2016, 2020])"
   ]
  },
  {
   "cell_type": "markdown",
   "metadata": {
    "id": "jEyXrVflK2Hk"
   },
   "source": [
    "# Apply on Data"
   ]
  },
  {
   "cell_type": "code",
   "execution_count": 47,
   "metadata": {
    "id": "5_jPWkcvK5lP"
   },
   "outputs": [],
   "source": [
    "# Psi for all Parametrizations\n",
    "psi_rc5, psi_chol5, psi_logm5, psi_corr5 = parametrize(RC5)\n",
    "psi_rc10, psi_chol10, psi_logm10, psi_corr10 = parametrize(RC10)\n",
    "psi_rc15, psi_chol15, psi_logm15, psi_corr15 = parametrize(RC15)\n",
    "\n"
   ]
  },
  {
   "cell_type": "code",
   "execution_count": 48,
   "metadata": {
    "id": "7RejL3rei0XE"
   },
   "outputs": [],
   "source": [
    "# Predictions with VAR\n",
    "# 5 stocks\n",
    "# one month ahead\n",
    "prediction5_rc1, prediction5_chol1, prediction5_logm1, prediction5_corr1 = prediction(psi_rc5, psi_chol5, psi_logm5, psi_corr5, 1)\n",
    "# 3 months ahead (quaterly)\n",
    "prediction5_rc3, prediction5_chol3, prediction5_logm3, prediction5_corr3 = prediction(psi_rc5, psi_chol5, psi_logm5, psi_corr5, 3)\n",
    "# one year ahead\n",
    "prediction5_rc12, prediction5_chol12, prediction5_logm12, prediction5_corr12 = prediction(psi_rc5, psi_chol5,  psi_logm5, psi_corr5, 12)"
   ]
  },
  {
   "cell_type": "code",
   "execution_count": 49,
   "metadata": {
    "id": "48qoxuwmliVq"
   },
   "outputs": [],
   "source": [
    "# Predictions with VAR\n",
    "# 10 stocks\n",
    "# one month ahead\n",
    "prediction10_rc1, prediction10_chol1, prediction10_logm1, prediction10_corr1 = prediction(psi_rc10, psi_chol10, psi_logm10, psi_corr10, 1)\n",
    "# 3 months ahead (quaterly)\n",
    "prediction10_rc3, prediction10_chol3, prediction10_logm3, prediction10_corr3 = prediction(psi_rc10, psi_chol10, psi_logm10, psi_corr10, 3)\n",
    "# one year ahead\n",
    "prediction10_rc12, prediction10_chol12, prediction10_logm12, prediction10_corr12 = prediction(psi_rc10, psi_chol10,  psi_logm10, psi_corr10, 12)"
   ]
  },
  {
   "cell_type": "code",
   "execution_count": 50,
   "metadata": {
    "id": "A0Ig1-AwlvPB"
   },
   "outputs": [],
   "source": [
    "# Predictions with VAR\n",
    "# 5 stocks\n",
    "# one month ahead\n",
    "prediction15_rc1, prediction15_chol1, prediction15_logm1, prediction15_corr1 = prediction(psi_rc15, psi_chol15, psi_logm15, psi_corr15, 1)\n",
    "# 3 months ahead (quaterly)\n",
    "prediction15_rc3, prediction15_chol3, prediction15_logm3, prediction15_corr3 = prediction(psi_rc15, psi_chol15, psi_logm15, psi_corr15, 3)\n",
    "# one year ahead\n",
    "prediction15_rc12, prediction15_chol12, prediction15_logm12, prediction15_corr12 = prediction(psi_rc15, psi_chol15,  psi_logm15, psi_corr15, 12)"
   ]
  },
  {
   "cell_type": "code",
   "execution_count": 51,
   "metadata": {
    "id": "344iUgNjlrFe"
   },
   "outputs": [],
   "source": [
    "# Reverse Parametrizations\n",
    "# 5 stocks\n",
    "Cov5_rc1, Cov5_chol1, Cov5_logm1, Cov5_corr1 = reverse_parametrize(prediction5_rc1, prediction5_chol1, prediction5_logm1, prediction5_corr1)\n",
    "Cov5_rc3, Cov5_chol3, Cov5_logm3, Cov5_corr3 = reverse_parametrize(prediction5_rc3, prediction5_chol3, prediction5_logm3, prediction5_corr3)\n",
    "Cov5_rc12, Cov5_chol12, Cov5_logm12, Cov5_corr12 = reverse_parametrize(prediction5_rc12, prediction5_chol12, prediction5_logm12, prediction5_corr12)"
   ]
  },
  {
   "cell_type": "code",
   "execution_count": 52,
   "metadata": {
    "id": "AxD7stwgmJ-Z"
   },
   "outputs": [],
   "source": [
    "# Reverse Parametrizations\n",
    "# 10 stocks\n",
    "Cov10_rc1, Cov10_chol1, Cov10_logm1, Cov10_corr1 = reverse_parametrize(prediction10_rc1, prediction10_chol1, prediction10_logm1, prediction10_corr1)\n",
    "Cov10_rc3, Cov10_chol3, Cov10_logm3, Cov10_corr3 = reverse_parametrize(prediction10_rc3, prediction10_chol3, prediction10_logm3, prediction10_corr3)\n",
    "Cov10_rc12, Cov10_chol12, Cov10_logm12, Cov10_corr12 = reverse_parametrize(prediction10_rc12, prediction10_chol12, prediction10_logm12, prediction10_corr12)"
   ]
  },
  {
   "cell_type": "code",
   "execution_count": 53,
   "metadata": {
    "id": "BE-8pviUmM_T"
   },
   "outputs": [],
   "source": [
    "# Reverse Parametrizations\n",
    "# 15 stocks\n",
    "Cov15_rc1, Cov15_chol1, Cov15_logm1, Cov15_corr1 = reverse_parametrize(prediction15_rc1, prediction15_chol1, prediction15_logm1, prediction15_corr1)\n",
    "Cov15_rc3, Cov15_chol3, Cov15_logm3, Cov15_corr3 = reverse_parametrize(prediction15_rc3, prediction15_chol3, prediction15_logm3, prediction15_corr3)\n",
    "Cov15_rc12, Cov15_chol12, Cov15_logm12, Cov15_corr12 = reverse_parametrize(prediction15_rc12, prediction15_chol12, prediction15_logm12, prediction15_corr12)"
   ]
  },
  {
   "cell_type": "code",
   "execution_count": 54,
   "metadata": {
    "id": "PDv2Aq8bxgJo"
   },
   "outputs": [],
   "source": [
    "# Apply approach of matrix approximant\n",
    "# 5 stocks\n",
    "Cov5_approx1 = Approximant(Cov5_rc1)\n",
    "Cov5_approx3 = Approximant(Cov5_rc3)\n",
    "Cov5_approx12 = Approximant(Cov5_rc12)\n",
    "\n",
    "# 10 stocks\n",
    "Cov10_approx1 = Approximant(Cov10_rc1)\n",
    "Cov10_approx3 = Approximant(Cov10_rc3)\n",
    "Cov10_approx12 = Approximant(Cov10_rc12)\n",
    "\n",
    "# 15 stocks\n",
    "Cov15_approx1 = Approximant(Cov15_rc1)\n",
    "Cov15_approx3 = Approximant(Cov15_rc3)\n",
    "Cov15_approx12 = Approximant(Cov15_rc12)\n"
   ]
  },
  {
   "cell_type": "code",
   "execution_count": 55,
   "metadata": {
    "colab": {
     "base_uri": "https://localhost:8080/"
    },
    "id": "6dV5hozpeSvl",
    "outputId": "9ad7ef64-3210-40b9-b354-5b9f35d4840d"
   },
   "outputs": [
    {
     "data": {
      "text/plain": [
       "[[24, 0, 0, 0, 0], [24, 0, 0, 0, 0], [22, 0, 0, 0, 0]]"
      ]
     },
     "execution_count": 55,
     "metadata": {},
     "output_type": "execute_result"
    }
   ],
   "source": [
    "[[definitness(Cov5_rc1), definitness(Cov5_chol1), definitness(Cov5_logm1), definitness(Cov5_approx1), definitness(Cov5_corr1)],\n",
    " [definitness(Cov5_rc3), definitness(Cov5_chol3), definitness(Cov5_logm3), definitness(Cov5_approx3), definitness(Cov5_corr3)],\n",
    " [definitness(Cov5_rc12), definitness(Cov5_chol12), definitness(Cov5_logm12), definitness(Cov5_approx12), definitness(Cov5_corr12)]]"
   ]
  },
  {
   "cell_type": "code",
   "execution_count": 56,
   "metadata": {
    "colab": {
     "base_uri": "https://localhost:8080/"
    },
    "id": "iWFue7IrnEoo",
    "outputId": "b9102f30-ae4e-4135-9529-43d6c8b8e3ee"
   },
   "outputs": [
    {
     "data": {
      "text/plain": [
       "[[62, 0, 0, 0, 0], [60, 0, 0, 0, 0], [51, 0, 0, 0, 0]]"
      ]
     },
     "execution_count": 56,
     "metadata": {},
     "output_type": "execute_result"
    }
   ],
   "source": [
    "[[definitness(Cov10_rc1), definitness(Cov10_chol1), definitness(Cov10_logm1), definitness(Cov10_approx1), definitness(Cov10_corr1)],\n",
    " [definitness(Cov10_rc3), definitness(Cov10_chol3), definitness(Cov10_logm3), definitness(Cov10_approx3), definitness(Cov10_corr3)],\n",
    " [definitness(Cov10_rc12), definitness(Cov10_chol12), definitness(Cov10_logm12), definitness(Cov10_approx12), definitness(Cov10_corr12)]]"
   ]
  },
  {
   "cell_type": "code",
   "execution_count": 57,
   "metadata": {
    "colab": {
     "base_uri": "https://localhost:8080/"
    },
    "id": "ExH25HtYhkAt",
    "outputId": "2cd2188f-3649-4792-8193-96dfd498fe16"
   },
   "outputs": [
    {
     "data": {
      "text/plain": [
       "[[80, 0, 0, 0, 0], [78, 0, 0, 0, 0], [69, 0, 0, 0, 0]]"
      ]
     },
     "execution_count": 57,
     "metadata": {},
     "output_type": "execute_result"
    }
   ],
   "source": [
    "[[definitness(Cov15_rc1), definitness(Cov15_chol1), definitness(Cov15_logm1), definitness(Cov15_approx1), definitness(Cov15_corr1)],\n",
    " [definitness(Cov15_rc3), definitness(Cov15_chol3), definitness(Cov15_logm3), definitness(Cov15_approx3), definitness(Cov15_corr3)],\n",
    " [definitness(Cov15_rc12), definitness(Cov15_chol12), definitness(Cov15_logm12), definitness(Cov15_approx12), definitness(Cov15_corr12)]]"
   ]
  },
  {
   "cell_type": "code",
   "execution_count": 58,
   "metadata": {
    "colab": {
     "base_uri": "https://localhost:8080/"
    },
    "id": "eudAXetmu_ta",
    "outputId": "f629cbe9-35c4-4c3a-c4a7-d3c7f3253f59"
   },
   "outputs": [
    {
     "name": "stdout",
     "output_type": "stream",
     "text": [
      "\\begin{tabular}{lrrrrrr}\n",
      "\\toprule\n",
      "{} &        0 &       1 &        0 &       1 &        0 &       1 \\\\\n",
      "index    &          &         &          &         &          &         \\\\\n",
      "\\midrule\n",
      "RC       &  0.37119 &  261.67 &  0.37408 &  266.80 &  0.37623 &  278.17 \\\\\n",
      "Cholesky &  0.60494 &  255.25 &  0.61223 &  273.22 &  0.63101 &  299.25 \\\\\n",
      "Logm     &  0.30860 &  162.78 &  0.31528 &  178.26 &  0.34433 &  224.94 \\\\\n",
      "Approx   &  0.37606 &  240.70 &  0.41246 &  245.83 &  0.41737 &  252.60 \\\\\n",
      "Corr     &  0.30032 &  165.76 &  0.30763 &  182.12 &  0.33718 &  229.25 \\\\\n",
      "\\bottomrule\n",
      "\\end{tabular}\n",
      "\n"
     ]
    }
   ],
   "source": [
    "# Accuracy for 5 stocks\n",
    "a = Accuracy(Cov5_rc1, Cov5_chol1, Cov5_logm1, Cov5_approx1, Cov5_corr1, RC5)\n",
    "b = Accuracy(Cov5_rc3, Cov5_chol3, Cov5_logm3, Cov5_approx3, Cov5_corr3, RC5)\n",
    "c = Accuracy(Cov5_rc12, Cov5_chol12, Cov5_logm12, Cov5_approx12, Cov5_corr12, RC5)\n",
    "accuracy5 = pd.concat([a,b,c], axis=1)\n",
    "accuracy5['index'] = (['RC', 'Cholesky', 'Logm', 'Approx', 'Corr'])\n",
    "accuracy5.set_index('index', inplace =True)\n",
    "print(accuracy5.to_latex())"
   ]
  },
  {
   "cell_type": "code",
   "execution_count": 59,
   "metadata": {
    "colab": {
     "base_uri": "https://localhost:8080/"
    },
    "id": "isJp8yzRnbp6",
    "outputId": "74d5b4c9-2241-4340-a640-8b6893f09ba6"
   },
   "outputs": [
    {
     "name": "stdout",
     "output_type": "stream",
     "text": [
      "\\begin{tabular}{lrrrrrr}\n",
      "\\toprule\n",
      "{} &        0 &       1 &        0 &       1 &        0 &       1 \\\\\n",
      "index    &          &         &          &         &          &         \\\\\n",
      "\\midrule\n",
      "RC       &  0.55618 &  688.73 &  0.56764 &  715.74 &  0.56720 &  777.72 \\\\\n",
      "Cholesky &  0.78375 &  662.58 &  0.76994 &  703.42 &  0.76928 &  734.63 \\\\\n",
      "Logm     &  0.53659 &  341.64 &  0.53783 &  396.00 &  0.55913 &  459.84 \\\\\n",
      "Approx   &  0.73080 &  745.85 &  0.73528 &  756.09 &  0.70750 &  784.45 \\\\\n",
      "Corr     &  0.52997 &  338.45 &  0.52713 &  368.33 &  0.58108 &  457.06 \\\\\n",
      "\\bottomrule\n",
      "\\end{tabular}\n",
      "\n"
     ]
    }
   ],
   "source": [
    "# Accuracy for 10 stocks\n",
    "a = Accuracy(Cov10_rc1, Cov10_chol1, Cov10_logm1, Cov10_approx1, Cov10_corr1, RC10)\n",
    "b = Accuracy(Cov10_rc3, Cov10_chol3, Cov10_logm3, Cov10_approx3, Cov10_corr3, RC10)\n",
    "c = Accuracy(Cov10_rc12, Cov10_chol12, Cov10_logm12, Cov10_approx12, Cov10_corr12, RC10)\n",
    "accuracy10 = pd.concat([a,b,c], axis=1)\n",
    "accuracy10['index'] = (['RC', 'Cholesky', 'Logm', 'Approx', 'Corr'])\n",
    "accuracy10.set_index('index', inplace =True)\n",
    "print(accuracy10.to_latex())\n"
   ]
  },
  {
   "cell_type": "code",
   "execution_count": 60,
   "metadata": {
    "colab": {
     "base_uri": "https://localhost:8080/"
    },
    "id": "8lIvhIk1n6k1",
    "outputId": "4abd5735-15d9-497d-c9fe-be7e80578fc0"
   },
   "outputs": [
    {
     "name": "stdout",
     "output_type": "stream",
     "text": [
      "\\begin{tabular}{lrrrrrr}\n",
      "\\toprule\n",
      "{} &        0 &        1 &        0 &        1 &        0 &        1 \\\\\n",
      "index    &          &          &          &          &          &          \\\\\n",
      "\\midrule\n",
      "RC       &  0.68039 &  1842.48 &  0.66303 &  1822.71 &  0.70105 &  1818.74 \\\\\n",
      "Cholesky &  0.77461 &  1862.75 &  0.74799 &  1910.78 &  0.77198 &  1643.12 \\\\\n",
      "Logm     &  0.78224 &  2567.00 &  0.78592 &  2678.42 &  0.79582 &  2344.04 \\\\\n",
      "Approx   &  0.84849 &  1525.62 &  0.84862 &  1499.60 &  0.84486 &  1432.50 \\\\\n",
      "Corr     &  0.73883 &   573.15 &  0.73862 &   606.58 &  0.74897 &   704.30 \\\\\n",
      "\\bottomrule\n",
      "\\end{tabular}\n",
      "\n"
     ]
    }
   ],
   "source": [
    "# Accuracy for 15 stocks\n",
    "a = Accuracy(Cov15_rc1, Cov15_chol1, Cov15_logm1, Cov15_approx1, Cov15_corr1, RC15)\n",
    "b = Accuracy(Cov15_rc3, Cov15_chol3, Cov15_logm3, Cov15_approx3, Cov15_corr3, RC15)\n",
    "c = Accuracy(Cov15_rc12, Cov15_chol12, Cov15_logm12, Cov15_approx12, Cov15_corr12, RC15)\n",
    "accuracy15 = pd.concat([a,b,c], axis=1)\n",
    "accuracy15['index'] = (['RC', 'Cholesky', 'Logm', 'Approx', 'Corr'])\n",
    "accuracy15.set_index('index', inplace =True)\n",
    "print(accuracy15.to_latex())"
   ]
  },
  {
   "cell_type": "markdown",
   "metadata": {
    "id": "VNPw0_UfLx_y"
   },
   "source": [
    "#  CCC GARCH\n"
   ]
  },
  {
   "cell_type": "code",
   "execution_count": 61,
   "metadata": {
    "id": "-BIMdRJROYWI"
   },
   "outputs": [],
   "source": [
    "from arch import arch_model"
   ]
  },
  {
   "cell_type": "code",
   "execution_count": 62,
   "metadata": {
    "id": "1y2Pu1SyOdL2"
   },
   "outputs": [],
   "source": [
    "# CCC GARCH\n",
    "def CCC_GARCH(df, h):\n",
    "  '''\n",
    "  input: monthly returns\n",
    "\n",
    "  output: CCC-GARCH predictions with rolling window\n",
    "  '''\n",
    "  test_size = round(1/3*len(df))\n",
    "\n",
    "  rolling_predictions = []\n",
    "\n",
    "  # T2 depends on forecast horzion p. 89 Bucci\n",
    "  for i in range(test_size-(h-1)):\n",
    "    coeffs = []\n",
    "    cond_vol = []\n",
    "    std_resids = []\n",
    "    models = []\n",
    "    # Rolling Window for training set\n",
    "    train = df[i:-(test_size-i)]\n",
    "\n",
    "    # Estimate univariate GARCH\n",
    "    for asset in train.columns:\n",
    "        model = arch_model(train[asset], mean='Constant', \n",
    "                          vol='GARCH', p=1, o=0, \n",
    "                          q=1).fit(update_freq=0, disp='off')\n",
    "        coeffs.append(model.params)\n",
    "        cond_vol.append(model.conditional_volatility)\n",
    "        std_resids.append(model.resid / model.conditional_volatility)\n",
    "        models.append(model)\n",
    "\n",
    "    # store results in DataFrame\n",
    "    coeffs_df = pd.DataFrame(coeffs, index=train.columns)\n",
    "    cond_vol_df = pd.DataFrame(cond_vol).transpose() \\\n",
    "                                        .set_axis(train.columns, \n",
    "                                                  axis='columns', \n",
    "                                                  inplace=False)\n",
    "    std_resids_df = pd.DataFrame(std_resids).transpose() \\\n",
    "                                            .set_axis(train.columns, \n",
    "                                                      axis='columns', \n",
    "                                                      inplace=False)\n",
    "\n",
    "    # Calculate constant conditional correlation matrix\n",
    "    R = std_resids_df.transpose() \\\n",
    "                    .dot(std_resids_df) \\\n",
    "                    .div(len(std_resids_df))\n",
    "\n",
    "    # calculate forecast for conditional covariance matrix\n",
    "    diag = []\n",
    "    D = np.zeros((len(df.columns), len(df.columns)))\n",
    "\n",
    "    for model in models:\n",
    "        diag.append(model.forecast(horizon=h).variance.values[-1][0])\n",
    "    diag = np.sqrt(np.array(diag))\n",
    "    np.fill_diagonal(D, diag)\n",
    "\n",
    "    H = np.matmul(np.matmul(D, R.values), D)\n",
    "\n",
    "    rolling_predictions.append(H)\n",
    "\n",
    "  return rolling_predictions"
   ]
  },
  {
   "cell_type": "code",
   "execution_count": 63,
   "metadata": {
    "id": "SSYyBzvzOgyR"
   },
   "outputs": [],
   "source": [
    "# 5 stocks\n",
    "returns5_monthly = data_monthly.iloc[:,0:5]\n",
    "Cov5_ccc1 = CCC_GARCH(returns5_monthly, 1)\n",
    "Cov5_ccc3 = CCC_GARCH(returns5_monthly, 3)\n",
    "Cov5_ccc12 = CCC_GARCH(returns5_monthly, 12)"
   ]
  },
  {
   "cell_type": "code",
   "execution_count": 64,
   "metadata": {
    "id": "k_znCxNSOji4"
   },
   "outputs": [],
   "source": [
    "# 10 stocks\n",
    "returns10_monthly = data_monthly.iloc[:,0:10]\n",
    "Cov10_ccc1 = CCC_GARCH(returns10_monthly, 1)\n",
    "Cov10_ccc3 = CCC_GARCH(returns10_monthly, 3)\n",
    "Cov10_ccc12 = CCC_GARCH(returns10_monthly, 12)"
   ]
  },
  {
   "cell_type": "code",
   "execution_count": 65,
   "metadata": {
    "id": "tFXlv2cPOnBi"
   },
   "outputs": [],
   "source": [
    "# 15 stocks\n",
    "returns15_monthly = data_monthly.iloc[:,0:15]\n",
    "Cov15_ccc1 = CCC_GARCH(returns15_monthly, 1)\n",
    "Cov15_ccc3 = CCC_GARCH(returns15_monthly, 3)\n",
    "Cov15_ccc12 = CCC_GARCH(returns15_monthly, 12)"
   ]
  },
  {
   "cell_type": "code",
   "execution_count": null,
   "metadata": {
    "id": "waxs-0PnOqPt"
   },
   "outputs": [],
   "source": [
    "# check definitness\n",
    "[[definitness(Cov5_ccc1), definitness(Cov10_ccc1), definitness(Cov15_ccc1)],\n",
    " [definitness(Cov5_ccc3), definitness(Cov10_ccc3), definitness(Cov15_ccc3)],\n",
    " [definitness(Cov5_ccc12), definitness(Cov10_ccc12), definitness(Cov15_ccc12)]]"
   ]
  },
  {
   "cell_type": "code",
   "execution_count": 67,
   "metadata": {
    "id": "rmJ6JolV9eOO"
   },
   "outputs": [],
   "source": [
    "def Accuracy_CCC(Cov5_ccc, Cov10_ccc, Cov15_ccc, RC5, RC10, RC15):\n",
    "  '''\n",
    "    Input: different Covariances\n",
    "    Calculates Procrustes and Frobenius norm\n",
    "    Output: Procrustes and Frobenius norm for DCC\n",
    "  '''\n",
    "  n = len(Cov5_ccc)\n",
    "  parametrizations = namedtuple(\"Parametrizations\", [\"five\", \"ten\", \"fifthteen\"])\n",
    "\n",
    "  cov5_1 = np.zeros(n)\n",
    "  cov5_2 = np.zeros(n)\n",
    "  cov10_1 = np.zeros(n)\n",
    "  cov10_2 = np.zeros(n)\n",
    "  cov15_1 = np.zeros(n)\n",
    "  cov15_2 = np.zeros(n)\n",
    "\n",
    "\n",
    "  for i in range(n):\n",
    "    # Procrustes\n",
    "    cov5_1[i] = procrustes(RC5[-i], Cov5_ccc[-i])[2]\n",
    "    cov10_1[i] = procrustes(RC10[-i], Cov10_ccc[-i])[2]\n",
    "    cov15_1[i] = procrustes(RC15[-i], Cov15_ccc[-i])[2]\n",
    "\n",
    "    # Frobenius Norm\n",
    "    cov5_2[i] = nplin.norm(RC5[-i]-Cov5_ccc[-i])\n",
    "    cov10_2[i] = nplin.norm(RC10[-i]-Cov10_ccc[-i])\n",
    "    cov15_2[i] = nplin.norm(RC15[-i]-Cov15_ccc[-i])\n",
    "\n",
    "\n",
    "  return parametrizations(\n",
    "      (round(cov5_1.mean(), 5), round(cov5_2.mean(), 2)),\n",
    "      (round(cov10_1.mean(), 5), round(cov10_2.mean(), 2)),\n",
    "      (round(cov15_1.mean(), 5), round(cov15_2.mean(), 2))\n",
    "  )"
   ]
  },
  {
   "cell_type": "code",
   "execution_count": 68,
   "metadata": {
    "colab": {
     "base_uri": "https://localhost:8080/"
    },
    "id": "yZCjIiM8OtRM",
    "outputId": "50831ed3-7f00-48bf-95bf-6e9691d52270"
   },
   "outputs": [
    {
     "name": "stdout",
     "output_type": "stream",
     "text": [
      "Parametrizations(five=(0.35548, 185.34), ten=(0.51044, 357.15), fifthteen=(0.51272, 522.63))\n"
     ]
    }
   ],
   "source": [
    "print(Accuracy_CCC(Cov5_ccc1, Cov10_ccc1, Cov15_ccc1,RC5, RC10, RC15))"
   ]
  },
  {
   "cell_type": "code",
   "execution_count": 69,
   "metadata": {
    "colab": {
     "base_uri": "https://localhost:8080/"
    },
    "id": "QO43vSI2Ovbw",
    "outputId": "7b62e55e-0abf-404d-8462-1c6f017e4a3b"
   },
   "outputs": [
    {
     "name": "stdout",
     "output_type": "stream",
     "text": [
      "Parametrizations(five=(0.34927, 190.39), ten=(0.51572, 374.77), fifthteen=(0.52345, 538.17))\n"
     ]
    }
   ],
   "source": [
    "print(Accuracy_CCC(Cov5_ccc3, Cov10_ccc3, Cov15_ccc3,RC5, RC10, RC15))"
   ]
  },
  {
   "cell_type": "code",
   "execution_count": 70,
   "metadata": {
    "colab": {
     "base_uri": "https://localhost:8080/"
    },
    "id": "a2yDUEo9OyBq",
    "outputId": "b3707f64-4455-4d36-b85c-7083d60daecc"
   },
   "outputs": [
    {
     "name": "stdout",
     "output_type": "stream",
     "text": [
      "Parametrizations(five=(0.35888, 210.12), ten=(0.53298, 419.74), fifthteen=(0.56641, 590.08))\n",
      "Parametrizations(five=(0.35888, 210.12), ten=(0.53298, 419.74), fifthteen=(0.56641, 590.08))\n"
     ]
    }
   ],
   "source": [
    "print(Accuracy_CCC(Cov5_ccc12, Cov10_ccc12, Cov15_ccc12,RC5, RC10, RC15))"
   ]
  },
  {
   "cell_type": "markdown",
   "metadata": {
    "id": "I2hYJNJo8Tgi"
   },
   "source": [
    "# Optimal weight portfolio\n"
   ]
  },
  {
   "cell_type": "code",
   "execution_count": 71,
   "metadata": {
    "id": "NlqHMLzhyjXi"
   },
   "outputs": [],
   "source": [
    "from scipy.optimize import minimize"
   ]
  },
  {
   "cell_type": "code",
   "execution_count": 72,
   "metadata": {
    "id": "-AhNGfNe-9mi"
   },
   "outputs": [],
   "source": [
    "def GMV_portfolio(l, return_mean, RC, freq):\n",
    "\n",
    "  '''\n",
    "  Input: list of covariances, list of expected returns\n",
    "\n",
    "  if-else-loop if covariance matrix is not invertible\n",
    "  frequence of updating portfolio (monthly, yearly etc.)\n",
    "\n",
    "  Output: portfolio weights, array of means and variance\n",
    "  ''' \n",
    "  w = []\n",
    "  mean = []\n",
    "  var = []\n",
    "\n",
    "  # constraints\n",
    "  constraints = ({'type': 'eq', 'fun': lambda x: np.sum(x) - 1})\n",
    "\n",
    "  # bounds, only long positions\n",
    "  bounds = tuple(\n",
    "      (0,0.4) for w in range(len(return_mean.columns))\n",
    "  )\n",
    "\n",
    "  # equal weights as initially guess\n",
    "  equal_weights = np.array([1/len(return_mean.columns)]*len(return_mean.columns))\n",
    "\n",
    "  for j in np.arange(0,len(l), freq):\n",
    "    Cov = l[j]\n",
    "\n",
    "    def portfolio_var(weights):\n",
    "      return np.dot(weights.T, np.dot(Cov, weights))\n",
    "\n",
    "    # if loop if C is not invertible\n",
    "    if nplin.det(Cov) != 0:\n",
    "      Cov = Cov \n",
    "    else: \n",
    "      Cov = Cov + 1e-6 * np.identity(len(Cov))\n",
    "\n",
    "    result_w = minimize(\n",
    "      # Objective function\n",
    "      fun = portfolio_var, \n",
    "      # Initial guess, which is the equal weight array\n",
    "      x0 = equal_weights, \n",
    "      #method = 'SLSQP',\n",
    "      bounds = bounds, \n",
    "      constraints = constraints)\n",
    "    \n",
    "    for n in range(freq):\n",
    "      w.append(result_w['x'])\n",
    "\n",
    "      # portfolio variance\n",
    "      #var.append(result_w['fun'])\n",
    "\n",
    "  # portfolio mean\n",
    "  for i in range(len(l)):\n",
    "    r = return_mean.iloc[i,:]\n",
    "    Cov = RC[i]\n",
    "    result_mean = np.dot(w[i],r)\n",
    "    mean.append(result_mean)\n",
    "\n",
    "    result_var = np.dot(w[i].T, np.dot(Cov, w[i]))\n",
    "    var.append(result_var)\n",
    "\n",
    "\n",
    "\n",
    "  mean = np.asarray(mean)\n",
    "  var = np.asarray(var)\n",
    "  \n",
    "  return w, mean, var"
   ]
  },
  {
   "cell_type": "code",
   "execution_count": 73,
   "metadata": {
    "id": "HOAPlBS3PYy2"
   },
   "outputs": [],
   "source": [
    "def statistics_port(mean_real, var_real, mean_chol, var_chol, mean_logm, var_logm,\n",
    "                    mean_approx, var_approx, mean_corr, var_corr, mean_dcc, var_dcc, varTelekom):\n",
    "  \n",
    "  mean = pd.DataFrame(np.array([mean_real, mean_chol, mean_logm, mean_approx, mean_corr, mean_dcc]).T)\n",
    "  variance = pd.DataFrame(np.array([var_real, var_chol, var_logm, var_approx, var_corr, var_dcc]).T)\n",
    "\n",
    "  mean.columns = ['Real', 'Cholesky', 'Logm', 'Approx', 'Corr', 'CCC']\n",
    "  variance.columns = ['Real', 'Cholesky', 'Logm', 'Approx', 'Corr', 'CCC']\n",
    "\n",
    "  r_average = []\n",
    "  r_accumulate = []\n",
    "  std = []\n",
    "  var = []\n",
    "  var_perc_Telekom = []\n",
    "  var_perc_Infineon = []\n",
    "\n",
    "  for col in range(6):\n",
    "    # Out of sample average portfolio return\n",
    "    average = mean.iloc[:,col].mean()\n",
    "    r_average.append(average)\n",
    "    \n",
    "    # accumulated return \n",
    "    accumulate = (mean.iloc[:,col]/100+1).prod()\n",
    "    r_accumulate.append(accumulate)\n",
    "    \n",
    "    # Portfolio return standard deviation\n",
    "    sd = mean.iloc[:,col].std()\n",
    "    std.append(sd)\n",
    "    \n",
    "    # Portfolio variance\n",
    "    v = variance.iloc[:,col].mean()\n",
    "    var.append(v)\n",
    "    \n",
    "\n",
    "    # Compare variance to stock with minimal variance Telekom\n",
    "    #y = ((variance.iloc[:,col] - varTelekom.iloc[:,3])/varTelekom.iloc[:,3])*100\n",
    "    y = ((v-varTelekom.iloc[:,3].mean())/varTelekom.iloc[:,3].mean())*100\n",
    "    var_perc_Telekom.append(y.mean())\n",
    "\n",
    "    # Compare variance to stock with maximal variance Infineon\n",
    "    #w = ((variance.iloc[:,col] - varTelekom.iloc[:,8])/varTelekom.iloc[:,8])*100\n",
    "    w = ((v-varTelekom.iloc[:,8].mean())/varTelekom.iloc[:,8].mean())*100\n",
    "    var_perc_Infineon.append(w.mean())\n",
    "  \n",
    "  l = [r_average, r_accumulate, var,  var_perc_Telekom]\n",
    "  statistics = pd.DataFrame(l).T\n",
    "  statistics.columns = ['r_average', 'r_accumulated', 'var', 'var_perc_Telekom']\n",
    "\n",
    "  statistics['model'] = ['Real', 'Cholesky', 'Logm', 'Approx', 'Corr', 'CCC']\n",
    "  statistics = pd.DataFrame.reindex(statistics, columns = ['model', 'r_average', 'r_accumulated', \n",
    "                                                           'var', 'var_perc_Telekom'])\n",
    "\n",
    "  # sharpe ratio\n",
    "  statistics['Sharpe Ratio'] = statistics['r_average']/np.sqrt(statistics['var'])\n",
    "\n",
    "  statistics = np.round(statistics, 4)\n",
    "\n",
    "  return statistics"
   ]
  },
  {
   "cell_type": "code",
   "execution_count": 74,
   "metadata": {
    "id": "g99wh6fVmQu0"
   },
   "outputs": [],
   "source": [
    "# return mean\n",
    "return_mean5 = data_monthly.iloc[:,0:5]\n",
    "return_mean10 = data_monthly.iloc[:,0:10]\n",
    "return_mean15 = data_monthly.iloc[:,0:15]"
   ]
  },
  {
   "cell_type": "code",
   "execution_count": 75,
   "metadata": {
    "id": "6DmH5Pv8Q-Yg"
   },
   "outputs": [],
   "source": [
    "# Calculate weights of different parametrizations\n",
    "# 5 stocks\n",
    "RC = RC5[-80:]\n",
    "w5_real, portfolio5_mean_real, portfolio5_var_real = GMV_portfolio(RC, return_mean5, RC, 1)\n",
    "w5_rc1, portfolio5_mean_rc1, portfolio5_var_rc1 = GMV_portfolio(Cov5_rc1, return_mean5, RC, 6)\n",
    "w5_approx1, portfolio5_mean_approx1, portfolio5_var_approx1 = GMV_portfolio(Cov5_approx1, return_mean5, RC, 6)\n",
    "w5_logm1, portfolio5_mean_logm1, portfolio5_var_logm1 = GMV_portfolio(Cov5_logm1, return_mean5, RC, 6)\n",
    "w5_corr1, portfolio5_mean_corr1, portfolio5_var_corr1 = GMV_portfolio(Cov5_corr1, return_mean5, RC, 6)\n",
    "w5_chol1, portfolio5_mean_chol1, portfolio5_var_chol1 = GMV_portfolio(Cov5_chol1, return_mean5, RC, 6)\n",
    "w5_ccc1, portfolio5_mean_ccc1, portfolio5_var_ccc1 = GMV_portfolio(Cov5_ccc1, return_mean5, RC, 6)"
   ]
  },
  {
   "cell_type": "code",
   "execution_count": 76,
   "metadata": {
    "id": "2hVsAmPcxC3w"
   },
   "outputs": [],
   "source": [
    "statistics5 = statistics_port(portfolio5_mean_real, portfolio5_var_real, portfolio5_mean_chol1, portfolio5_var_chol1,  \n",
    "                              portfolio5_mean_logm1, portfolio5_var_logm1, portfolio5_mean_approx1, \n",
    "                              portfolio5_var_approx1, portfolio5_mean_corr1, portfolio5_var_corr1,\n",
    "                              portfolio5_mean_ccc1, portfolio5_var_ccc1, var)"
   ]
  },
  {
   "cell_type": "code",
   "execution_count": 77,
   "metadata": {
    "colab": {
     "base_uri": "https://localhost:8080/"
    },
    "id": "yVA3IP_OvwE6",
    "outputId": "ff8aa843-bef1-485a-e182-08743dbfae7d"
   },
   "outputs": [
    {
     "name": "stdout",
     "output_type": "stream",
     "text": [
      "\\begin{tabular}{llrrrrr}\n",
      "\\toprule\n",
      "{} &     model &  r\\_average &  r\\_accumulated &      var &  var\\_perc\\_Telekom &  Sharpe Ratio \\\\\n",
      "\\midrule\n",
      "0 &      Real &     0.6983 &         1.5011 &  24.5760 &          -51.5018 &        0.1409 \\\\\n",
      "1 &  Cholesky &     0.6222 &         1.4381 &  33.9086 &          -33.0848 &        0.1069 \\\\\n",
      "2 &      Logm &     0.4905 &         1.2703 &  30.6172 &          -39.5800 &        0.0886 \\\\\n",
      "3 &    Approx &     0.4712 &         1.2432 &  36.4889 &          -27.9929 &        0.0780 \\\\\n",
      "4 &      Corr &     0.5050 &         1.2668 &  31.0977 &          -38.6318 &        0.0906 \\\\\n",
      "5 &       CCC &     0.5366 &         1.3194 &  31.6009 &          -37.6389 &        0.0955 \\\\\n",
      "\\bottomrule\n",
      "\\end{tabular}\n",
      "\n"
     ]
    }
   ],
   "source": [
    "print(statistics5.to_latex())"
   ]
  },
  {
   "cell_type": "code",
   "execution_count": 78,
   "metadata": {
    "id": "VJ64ciZYnaE7"
   },
   "outputs": [],
   "source": [
    "# Calculate weights of different parametrizations\n",
    "# 10 stocks\n",
    "RC = RC10[-80:]\n",
    "w10_real, portfolio10_mean_real, portfolio10_var_real = GMV_portfolio(RC, return_mean10, RC, 1)\n",
    "w10_rc1, portfolio10_mean_rc1, portfolio10_var_rc1 = GMV_portfolio(Cov10_rc1, return_mean10, RC,6)\n",
    "w10_approx1, portfolio10_mean_approx1, portfolio10_var_approx1 = GMV_portfolio(Cov10_approx1, return_mean10, RC,6)\n",
    "w10_logm1, portfolio10_mean_logm1, portfolio10_var_logm1 = GMV_portfolio(Cov10_logm1, return_mean10, RC,6)\n",
    "w10_corr1, portfolio10_mean_corr1, portfolio10_var_corr1 = GMV_portfolio(Cov10_corr1, return_mean10, RC,6)\n",
    "w10_chol1, portfolio10_mean_chol1, portfolio10_var_chol1 = GMV_portfolio(Cov10_chol1, return_mean10, RC,6)\n",
    "w10_ccc1, portfolio10_mean_ccc1, portfolio10_var_ccc1 = GMV_portfolio(Cov10_ccc1, return_mean10, RC,6)"
   ]
  },
  {
   "cell_type": "code",
   "execution_count": 79,
   "metadata": {
    "id": "8j24CJzWnw0E"
   },
   "outputs": [],
   "source": [
    "statistics10 = statistics_port(portfolio10_mean_real, portfolio10_var_real, portfolio10_mean_chol1, portfolio10_var_chol1,  \n",
    "                              portfolio10_mean_logm1, portfolio10_var_logm1, portfolio10_mean_approx1, \n",
    "                              portfolio10_var_approx1, portfolio10_mean_corr1, portfolio10_var_corr1,\n",
    "                               portfolio10_mean_ccc1, portfolio10_var_ccc1, var)"
   ]
  },
  {
   "cell_type": "code",
   "execution_count": 80,
   "metadata": {
    "colab": {
     "base_uri": "https://localhost:8080/"
    },
    "id": "cTx2ZZJnzseK",
    "outputId": "87a45027-11a5-4c27-80de-f3159b6718be"
   },
   "outputs": [
    {
     "name": "stdout",
     "output_type": "stream",
     "text": [
      "\\begin{tabular}{llrrrrr}\n",
      "\\toprule\n",
      "{} &     model &  r\\_average &  r\\_accumulated &      var &  var\\_perc\\_Telekom &  Sharpe Ratio \\\\\n",
      "\\midrule\n",
      "0 &      Real &    -0.0352 &         0.8254 &  20.9526 &          -58.6520 &       -0.0077 \\\\\n",
      "1 &  Cholesky &     0.4381 &         1.1123 &  35.5753 &          -29.7956 &        0.0735 \\\\\n",
      "2 &      Logm &     0.5353 &         1.3098 &  32.7127 &          -35.4447 &        0.0936 \\\\\n",
      "3 &    Approx &     0.7857 &         1.4077 &  37.7359 &          -25.5320 &        0.1279 \\\\\n",
      "4 &      Corr &     0.7848 &         1.5705 &  36.5833 &          -27.8065 &        0.1297 \\\\\n",
      "5 &       CCC &     0.4241 &         1.1661 &  32.5838 &          -35.6992 &        0.0743 \\\\\n",
      "\\bottomrule\n",
      "\\end{tabular}\n",
      "\n"
     ]
    }
   ],
   "source": [
    "print(statistics10.to_latex())"
   ]
  },
  {
   "cell_type": "code",
   "execution_count": 81,
   "metadata": {
    "id": "10kcrtcUmaie"
   },
   "outputs": [],
   "source": [
    "# Calculate weights of different parametrizations\n",
    "# 15 stocks\n",
    "RC = RC15[-80:]\n",
    "w15_real, portfolio15_mean_real, portfolio15_var_real = GMV_portfolio(RC, return_mean15, RC, 1)\n",
    "w15_rc1, portfolio15_mean_rc1, portfolio15_var_rc1 = GMV_portfolio(Cov15_rc1, return_mean15, RC, 6)\n",
    "w15_approx1, portfolio15_mean_approx1, portfolio15_var_approx1 = GMV_portfolio(Cov15_approx1, return_mean15, RC, 6)\n",
    "w15_logm1, portfolio15_mean_logm1, portfolio15_var_logm1 = GMV_portfolio(Cov15_logm1, return_mean15, RC, 6)\n",
    "w15_corr1, portfolio15_mean_corr1, portfolio15_var_corr1 = GMV_portfolio(Cov15_corr1, return_mean15, RC, 6)\n",
    "w15_chol1, portfolio15_mean_chol1, portfolio15_var_chol1 = GMV_portfolio(Cov15_chol1, return_mean15, RC, 6)\n",
    "w15_ccc1, portfolio15_mean_ccc1, portfolio15_var_ccc1 = GMV_portfolio(Cov15_ccc1, return_mean15, RC, 6)\n"
   ]
  },
  {
   "cell_type": "code",
   "execution_count": 82,
   "metadata": {
    "id": "dEBsI0uPnIp8"
   },
   "outputs": [],
   "source": [
    "statistics15 = statistics_port(portfolio15_mean_real, portfolio15_var_real, portfolio15_mean_chol1, portfolio15_var_chol1,  \n",
    "                              portfolio15_mean_logm1, portfolio15_var_logm1, portfolio15_mean_approx1, \n",
    "                              portfolio15_var_approx1, portfolio15_mean_corr1, portfolio15_var_corr1,\n",
    "                               portfolio15_mean_ccc1, portfolio15_var_ccc1, var)"
   ]
  },
  {
   "cell_type": "code",
   "execution_count": 83,
   "metadata": {
    "colab": {
     "base_uri": "https://localhost:8080/"
    },
    "id": "hqYhbGZS0IvD",
    "outputId": "c88d7779-cc1a-4f69-e5a5-ec88d07cfd25"
   },
   "outputs": [
    {
     "name": "stdout",
     "output_type": "stream",
     "text": [
      "\\begin{tabular}{llrrrrr}\n",
      "\\toprule\n",
      "{} &     model &  r\\_average &  r\\_accumulated &      var &  var\\_perc\\_Telekom &  Sharpe Ratio \\\\\n",
      "\\midrule\n",
      "0 &      Real &     0.4529 &         1.2476 &  16.1119 &          -68.2048 &        0.1128 \\\\\n",
      "1 &  Cholesky &     1.2322 &         2.3077 &  35.9746 &          -29.0077 &        0.2054 \\\\\n",
      "2 &      Logm &     0.4204 &         1.1589 &  33.0004 &          -34.8769 &        0.0732 \\\\\n",
      "3 &    Approx &     0.6168 &         1.3304 &  35.1226 &          -30.6891 &        0.1041 \\\\\n",
      "4 &      Corr &     0.5414 &         1.3508 &  36.7424 &          -27.4925 &        0.0893 \\\\\n",
      "5 &       CCC &     0.6796 &         1.4440 &  27.7192 &          -45.2990 &        0.1291 \\\\\n",
      "\\bottomrule\n",
      "\\end{tabular}\n",
      "\n"
     ]
    }
   ],
   "source": [
    "print(statistics15.to_latex())"
   ]
  }
 ],
 "metadata": {
  "colab": {
   "collapsed_sections": [
    "8WQWmlmWr_MT",
    "lIB3t1nphL_6",
    "Lf2AwS5l7X8e",
    "OknhJOO1XYTD",
    "a8uWgGhZjWS-",
    "jEyXrVflK2Hk",
    "I2hYJNJo8Tgi"
   ],
   "provenance": []
  },
  "kernelspec": {
   "display_name": "Python 3 (ipykernel)",
   "language": "python",
   "name": "python3"
  },
  "language_info": {
   "codemirror_mode": {
    "name": "ipython",
    "version": 3
   },
   "file_extension": ".py",
   "mimetype": "text/x-python",
   "name": "python",
   "nbconvert_exporter": "python",
   "pygments_lexer": "ipython3",
   "version": "3.11.4"
  }
 },
 "nbformat": 4,
 "nbformat_minor": 1
}
